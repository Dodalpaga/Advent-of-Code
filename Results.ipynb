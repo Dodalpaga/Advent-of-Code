{
 "cells": [
  {
   "cell_type": "markdown",
   "metadata": {},
   "source": [
    "# Advent of Code : https://adventofcode.com/"
   ]
  },
  {
   "cell_type": "markdown",
   "metadata": {},
   "source": [
    "# Imports"
   ]
  },
  {
   "cell_type": "code",
   "execution_count": 1,
   "metadata": {},
   "outputs": [],
   "source": [
    "import numpy as np\n",
    "import pandas as pd"
   ]
  },
  {
   "cell_type": "markdown",
   "metadata": {},
   "source": [
    "# Day 1"
   ]
  },
  {
   "cell_type": "markdown",
   "metadata": {},
   "source": [
    "### Puzzle 1"
   ]
  },
  {
   "cell_type": "code",
   "execution_count": 2,
   "metadata": {},
   "outputs": [
    {
     "data": {
      "text/plain": [
       "array([171, 154, 155, 170, 167])"
      ]
     },
     "execution_count": 2,
     "metadata": {},
     "output_type": "execute_result"
    }
   ],
   "source": [
    "f = open('./inputs/day1/input','r')\n",
    "data = np.array(f.read().split('\\n'))[:-1].astype(int)\n",
    "data[0:5]"
   ]
  },
  {
   "cell_type": "code",
   "execution_count": 3,
   "metadata": {},
   "outputs": [
    {
     "name": "stdout",
     "output_type": "stream",
     "text": [
      "1121\n"
     ]
    }
   ],
   "source": [
    "counter=0\n",
    "for i in range(len(data)-1):\n",
    "    if data[i+1] > data[(i)]:\n",
    "        counter+=1\n",
    "print(counter)"
   ]
  },
  {
   "cell_type": "markdown",
   "metadata": {},
   "source": [
    "### Puzzle 2"
   ]
  },
  {
   "cell_type": "code",
   "execution_count": 4,
   "metadata": {},
   "outputs": [
    {
     "name": "stdout",
     "output_type": "stream",
     "text": [
      "1065\n"
     ]
    }
   ],
   "source": [
    "counter = 0\n",
    "for i in range(len(data)-3):\n",
    "    if data[i+1] + data[i+2] + data[i+3] > data[i] + data[i+1] + data[i+2]:\n",
    "        counter+=1\n",
    "print(counter)"
   ]
  },
  {
   "cell_type": "markdown",
   "metadata": {},
   "source": [
    "# Day 2"
   ]
  },
  {
   "cell_type": "markdown",
   "metadata": {},
   "source": [
    "## Puzzle 1"
   ]
  },
  {
   "cell_type": "code",
   "execution_count": 5,
   "metadata": {},
   "outputs": [
    {
     "name": "stdout",
     "output_type": "stream",
     "text": [
      "['forward 1' 'down 6' 'down 6' 'forward 2' 'forward 2' 'down 2' 'down 1'\n",
      " 'down 5' 'down 7' 'down 3' 'forward 1' 'forward 6' 'up 2' 'forward 2'\n",
      " 'forward 7']\n",
      "forward 3\n"
     ]
    }
   ],
   "source": [
    "f = open('./inputs/day2/input','r')\n",
    "data = np.array(f.read().split('\\n'))\n",
    "print(data[0:15])\n",
    "print(data[-1])"
   ]
  },
  {
   "cell_type": "code",
   "execution_count": 6,
   "metadata": {},
   "outputs": [
    {
     "name": "stdout",
     "output_type": "stream",
     "text": [
      "[1790, 1222]\n",
      "2187380\n"
     ]
    }
   ],
   "source": [
    "position = [0,0] # Horizontal / Depth\n",
    "for movement in data:\n",
    "    if movement.split(\" \")[0]==\"forward\":\n",
    "        position[0] = position[0] + int(movement.split(\" \")[1])\n",
    "    if movement.split(\" \")[0]==\"up\":\n",
    "        position[1] = position[1] - int(movement.split(\" \")[1])\n",
    "    if movement.split(\" \")[0]==\"down\":\n",
    "        position[1] = position[1] + int(movement.split(\" \")[1])\n",
    "print(position)\n",
    "result = position[0]*position[1]\n",
    "print(result)"
   ]
  },
  {
   "cell_type": "markdown",
   "metadata": {},
   "source": [
    "## Puzzle 2"
   ]
  },
  {
   "cell_type": "code",
   "execution_count": 7,
   "metadata": {},
   "outputs": [
    {
     "name": "stdout",
     "output_type": "stream",
     "text": [
      "[1790, 1165563, 1222]\n",
      "2086357770\n"
     ]
    }
   ],
   "source": [
    "position = [0,0,0] # Horizontal / Depth / Aim\n",
    "for movement in data:\n",
    "    if movement.split(\" \")[0]==\"forward\":\n",
    "        position[0] = position[0] + int(movement.split(\" \")[1])\n",
    "        position[1] = position[1] + position[2]*int(movement.split(\" \")[1])\n",
    "    if movement.split(\" \")[0]==\"up\":\n",
    "        position[2] = position[2] - int(movement.split(\" \")[1])\n",
    "    if movement.split(\" \")[0]==\"down\":\n",
    "        position[2] = position[2] + int(movement.split(\" \")[1])\n",
    "print(position)\n",
    "result = position[0]*position[1]\n",
    "print(result)"
   ]
  },
  {
   "cell_type": "markdown",
   "metadata": {},
   "source": [
    "# Day 3"
   ]
  },
  {
   "cell_type": "markdown",
   "metadata": {},
   "source": [
    "## Puzzle 1"
   ]
  },
  {
   "cell_type": "code",
   "execution_count": 8,
   "metadata": {},
   "outputs": [
    {
     "name": "stdout",
     "output_type": "stream",
     "text": [
      "['011111101011' '101001110000' '010010001011' '011111100101'\n",
      " '111110100011' '100000010101' '001110110111' '101101111100'\n",
      " '001101110111' '010101000101' '010001001110' '000010001111'\n",
      " '011111001000' '011011111011' '001101110100']\n",
      "100000011011\n"
     ]
    }
   ],
   "source": [
    "f = open('./inputs/day3/input','r')\n",
    "data = np.array(f.read().split('\\n'))\n",
    "print(data[0:15])\n",
    "print(data[-1])"
   ]
  },
  {
   "cell_type": "code",
   "execution_count": 9,
   "metadata": {},
   "outputs": [
    {
     "name": "stdout",
     "output_type": "stream",
     "text": [
      "Répartition des 1 : [493. 494. 511. 509. 481. 504. 493. 487. 510. 502. 492. 484.]\n",
      "Gamma rate (bin): 001101001100\n",
      "Epsilon rate (bin): 110010110011\n",
      "Gamma rate : 844\n",
      "Epsilon rate : 3251\n",
      "Power consumption : 2743844\n"
     ]
    }
   ],
   "source": [
    "ones = np.zeros(12)\n",
    "for observation in data:\n",
    "    for i,digit in enumerate(observation):\n",
    "        ones[i] = ones[i]+int(digit)\n",
    "\n",
    "print(\"Répartition des 1 :\",ones)\n",
    "\n",
    "gamma_rate = (ones>(len(data)/2))*1\n",
    "epsilon_rate = (1-gamma_rate)\n",
    "\n",
    "gamma_rate_bin = ''.join(map(str, gamma_rate))\n",
    "epsilon_rate_bin = ''.join(map(str, epsilon_rate))\n",
    "\n",
    "print(\"Gamma rate (bin):\",gamma_rate_bin)\n",
    "print(\"Epsilon rate (bin):\",epsilon_rate_bin)\n",
    "\n",
    "gamma_rate = int(gamma_rate_bin,2)\n",
    "epsilon_rate = int(epsilon_rate_bin,2)\n",
    "\n",
    "print(\"Gamma rate :\",gamma_rate)\n",
    "print(\"Epsilon rate :\",epsilon_rate)\n",
    "\n",
    "print(\"Power consumption :\",gamma_rate*epsilon_rate)"
   ]
  },
  {
   "cell_type": "markdown",
   "metadata": {},
   "source": [
    "## Puzzle 2\n",
    "#### Note that the Gamma Rate corresponds to the most occuring digit in its position. Let's use that for our problem..."
   ]
  },
  {
   "cell_type": "code",
   "execution_count": 10,
   "metadata": {},
   "outputs": [
    {
     "name": "stdout",
     "output_type": "stream",
     "text": [
      "Taille de la liste : 1000\n",
      "Répartition des 1 : 493 . Cela correspond à une proportion de : 0.493\n",
      "Majorités en binaire : False\n",
      "Taille de la liste : 507\n",
      "--------------------------------\n",
      "Taille de la liste : 507\n",
      "Répartition des 1 : 255 . Cela correspond à une proportion de : 0.5029585798816568\n",
      "Majorités en binaire : True\n",
      "Taille de la liste : 255\n",
      "--------------------------------\n",
      "Taille de la liste : 255\n",
      "Répartition des 1 : 135 . Cela correspond à une proportion de : 0.5294117647058824\n",
      "Majorités en binaire : True\n",
      "Taille de la liste : 135\n",
      "--------------------------------\n",
      "Taille de la liste : 135\n",
      "Répartition des 1 : 68 . Cela correspond à une proportion de : 0.5037037037037037\n",
      "Majorités en binaire : True\n",
      "Taille de la liste : 68\n",
      "--------------------------------\n",
      "Taille de la liste : 68\n",
      "Répartition des 1 : 39 . Cela correspond à une proportion de : 0.5735294117647058\n",
      "Majorités en binaire : True\n",
      "Taille de la liste : 39\n",
      "--------------------------------\n",
      "Taille de la liste : 39\n",
      "Répartition des 1 : 19 . Cela correspond à une proportion de : 0.48717948717948717\n",
      "Majorités en binaire : False\n",
      "Taille de la liste : 20\n",
      "--------------------------------\n",
      "Taille de la liste : 20\n",
      "Répartition des 1 : 10 . Cela correspond à une proportion de : 0.5\n",
      "Majorités en binaire : True\n",
      "Taille de la liste : 10\n",
      "--------------------------------\n",
      "Taille de la liste : 10\n",
      "Répartition des 1 : 6 . Cela correspond à une proportion de : 0.6\n",
      "Majorités en binaire : True\n",
      "Taille de la liste : 6\n",
      "--------------------------------\n",
      "Taille de la liste : 6\n",
      "Répartition des 1 : 5 . Cela correspond à une proportion de : 0.8333333333333334\n",
      "Majorités en binaire : True\n",
      "Taille de la liste : 5\n",
      "--------------------------------\n",
      "Taille de la liste : 5\n",
      "Répartition des 1 : 3 . Cela correspond à une proportion de : 0.6\n",
      "Majorités en binaire : True\n",
      "Taille de la liste : 3\n",
      "--------------------------------\n",
      "Taille de la liste : 3\n",
      "Répartition des 1 : 1 . Cela correspond à une proportion de : 0.3333333333333333\n",
      "Majorités en binaire : False\n",
      "Taille de la liste : 2\n",
      "--------------------------------\n",
      "Taille de la liste : 2\n",
      "Répartition des 1 : 1 . Cela correspond à une proportion de : 0.5\n",
      "Majorités en binaire : True\n",
      "Taille de la liste : 1\n",
      "--------------------------------\n",
      "O2 Scrubber Rating : 011110111101\n"
     ]
    }
   ],
   "source": [
    "remaining = list(data.copy())\n",
    "for i in range(len(remaining[0])):\n",
    "    if len(remaining)==1:\n",
    "        break\n",
    "    print(\"Taille de la liste :\",len(remaining))\n",
    "    ones = 0\n",
    "    for observation in remaining:\n",
    "        ones = ones+int(observation[i])\n",
    "    print(\"Répartition des 1 :\",ones,\". Cela correspond à une proportion de :\",ones/len(remaining))\n",
    "    majoritaire = ones>=(len(remaining)/2)\n",
    "    print(\"Majorités en binaire :\",majoritaire)\n",
    "    \n",
    "    correct = []\n",
    "    for observation in remaining:\n",
    "        if int(observation[i])==int(majoritaire*1):\n",
    "            correct.append(observation)\n",
    "        else:\n",
    "            continue\n",
    "\n",
    "    remaining = correct.copy()\n",
    "    print(\"Taille de la liste :\",len(remaining))\n",
    "    print(\"--------------------------------\")\n",
    "\n",
    "O2_scrubber_rating = remaining[0]\n",
    "\n",
    "print(\"O2 Scrubber Rating :\",O2_scrubber_rating)"
   ]
  },
  {
   "cell_type": "code",
   "execution_count": 11,
   "metadata": {},
   "outputs": [
    {
     "name": "stdout",
     "output_type": "stream",
     "text": [
      "Taille de la liste : 1000\n",
      "Répartition des 1 : 493 . Cela correspond à une proportion de : 0.493\n",
      "Majorités en binaire : True\n",
      "Taille de la liste : 493\n",
      "--------------------------------\n",
      "Taille de la liste : 493\n",
      "Répartition des 1 : 239 . Cela correspond à une proportion de : 0.4847870182555781\n",
      "Majorités en binaire : True\n",
      "Taille de la liste : 239\n",
      "--------------------------------\n",
      "Taille de la liste : 239\n",
      "Répartition des 1 : 123 . Cela correspond à une proportion de : 0.5146443514644351\n",
      "Majorités en binaire : False\n",
      "Taille de la liste : 116\n",
      "--------------------------------\n",
      "Taille de la liste : 116\n",
      "Répartition des 1 : 56 . Cela correspond à une proportion de : 0.4827586206896552\n",
      "Majorités en binaire : True\n",
      "Taille de la liste : 56\n",
      "--------------------------------\n",
      "Taille de la liste : 56\n",
      "Répartition des 1 : 30 . Cela correspond à une proportion de : 0.5357142857142857\n",
      "Majorités en binaire : False\n",
      "Taille de la liste : 26\n",
      "--------------------------------\n",
      "Taille de la liste : 26\n",
      "Répartition des 1 : 13 . Cela correspond à une proportion de : 0.5\n",
      "Majorités en binaire : False\n",
      "Taille de la liste : 13\n",
      "--------------------------------\n",
      "Taille de la liste : 13\n",
      "Répartition des 1 : 4 . Cela correspond à une proportion de : 0.3076923076923077\n",
      "Majorités en binaire : True\n",
      "Taille de la liste : 4\n",
      "--------------------------------\n",
      "Taille de la liste : 4\n",
      "Répartition des 1 : 3 . Cela correspond à une proportion de : 0.75\n",
      "Majorités en binaire : False\n",
      "Taille de la liste : 1\n",
      "--------------------------------\n",
      "CO2 Scrubber Rating : 110100101011\n"
     ]
    }
   ],
   "source": [
    "remaining = list(data.copy())\n",
    "for i in range(len(remaining[0])):\n",
    "    if len(remaining)==1:\n",
    "        break\n",
    "    print(\"Taille de la liste :\",len(remaining))\n",
    "    ones = 0\n",
    "    for observation in remaining:\n",
    "        ones = ones+int(observation[i])\n",
    "    print(\"Répartition des 1 :\",ones,\". Cela correspond à une proportion de :\",ones/len(remaining))\n",
    "    minoritaire = ones<(len(remaining)/2)\n",
    "    print(\"Majorités en binaire :\",minoritaire)\n",
    "    \n",
    "    correct = []\n",
    "    for observation in remaining:\n",
    "        if int(observation[i])==int(minoritaire*1):\n",
    "            correct.append(observation)\n",
    "        else:\n",
    "            continue\n",
    "\n",
    "    remaining = correct.copy()\n",
    "    print(\"Taille de la liste :\",len(remaining))\n",
    "    print(\"--------------------------------\")\n",
    "\n",
    "CO2_scrubber_rating = remaining[0]\n",
    "\n",
    "print(\"CO2 Scrubber Rating :\",CO2_scrubber_rating)"
   ]
  },
  {
   "cell_type": "code",
   "execution_count": 12,
   "metadata": {},
   "outputs": [
    {
     "name": "stdout",
     "output_type": "stream",
     "text": [
      "Le taux de dioxygène : 1981\n",
      "Le taux de dioxyde de carbone : 3371\n"
     ]
    }
   ],
   "source": [
    "O2_scrubber_rating = int(O2_scrubber_rating,2)\n",
    "CO2_scrubber_rating = int(CO2_scrubber_rating,2)\n",
    "print(\"Le taux de dioxygène :\",O2_scrubber_rating)\n",
    "print(\"Le taux de dioxyde de carbone :\",CO2_scrubber_rating)"
   ]
  },
  {
   "cell_type": "code",
   "execution_count": 13,
   "metadata": {},
   "outputs": [
    {
     "data": {
      "text/plain": [
       "6677951"
      ]
     },
     "execution_count": 13,
     "metadata": {},
     "output_type": "execute_result"
    }
   ],
   "source": [
    "Life_support_rating = O2_scrubber_rating*CO2_scrubber_rating\n",
    "Life_support_rating"
   ]
  },
  {
   "cell_type": "markdown",
   "metadata": {},
   "source": [
    "# Day 4"
   ]
  },
  {
   "cell_type": "markdown",
   "metadata": {},
   "source": [
    "## Puzzle 1"
   ]
  },
  {
   "cell_type": "code",
   "execution_count": 14,
   "metadata": {},
   "outputs": [
    {
     "name": "stdout",
     "output_type": "stream",
     "text": [
      "['50', '68', '2', '1', '69', '32', '87', '10', '31', '21', '78', '23', '62', '98', '16', '99', '65', '35', '27', '96', '66', '26', '74', '72', '45', '52', '81', '60', '38', '57', '54', '19', '18', '77', '71', '29', '51', '41', '22', '6', '58', '5', '42', '92', '85', '64', '94', '12', '83', '11', '17', '14', '37', '36', '59', '33', '0', '93', '34', '70', '97', '7', '76', '20', '3', '88', '43', '47', '8', '79', '80', '63', '9', '25', '56', '75', '15', '4', '82', '67', '39', '30', '89', '86', '46', '90', '48', '73', '91', '55', '95', '28', '49', '61', '44', '84', '40', '53', '13', '24']\n",
      "\n",
      "\n",
      "(100, 5, 5)\n",
      "[[[38 80 23 60 82]\n",
      "  [25 35 28 47 39]\n",
      "  [40  0 30 48 76]\n",
      "  [32 41 49 69  4]\n",
      "  [13 42 89 20 12]]\n",
      "\n",
      " [[76 89 13  5 98]\n",
      "  [87 48  2 59 20]\n",
      "  [37 88 41 24 57]\n",
      "  [16 85 31 73 95]\n",
      "  [70 11 93 30 27]]\n",
      "\n",
      " [[81 55 41 85 33]\n",
      "  [67 97 71 90 52]\n",
      "  [19  3 79 66 14]\n",
      "  [49 96 94 26 25]\n",
      "  [60 46 51 82  9]]]\n"
     ]
    }
   ],
   "source": [
    "f = open('./inputs/day4/input','r')\n",
    "lines = f.readlines()\n",
    "data = np.array(f.read().split('\\n\\n'))\n",
    "tirages = lines.pop(0)[:-1].split(\",\")\n",
    "\n",
    "print(tirages)\n",
    "print(\"\\n\")\n",
    "converted_list = []\n",
    "\n",
    "for element in lines:\n",
    "    converted_list.append(element.strip())\n",
    "converted_list = list(filter(None, converted_list))\n",
    "\n",
    "grilles = []\n",
    "for i in range(0,len(converted_list),5):\n",
    "    grille=[]\n",
    "    for j in range(5):\n",
    "        row = converted_list[i+j].split(\" \")\n",
    "        row = list(filter(None, row))\n",
    "        grille.append(row)\n",
    "    grilles.append(grille)\n",
    "    \n",
    "grilles = np.array(grilles).astype(int)\n",
    "print(grilles.shape)\n",
    "print(grilles[0:3])"
   ]
  },
  {
   "cell_type": "code",
   "execution_count": 15,
   "metadata": {},
   "outputs": [
    {
     "name": "stdout",
     "output_type": "stream",
     "text": [
      "[[1 0 1 0 1]\n",
      " [0 0 0 1 0]\n",
      " [0 1 1 0 1]\n",
      " [0 0 0 0 1]\n",
      " [1 0 0 0 1]]\n",
      "2\n",
      "3\n"
     ]
    }
   ],
   "source": [
    "def getColumnSum(grille,column):\n",
    "    return np.sum(grille[:,column])\n",
    "def getRowSum(grille,row):\n",
    "    return np.sum(grille[row,:])\n",
    "\n",
    "temp_grille = np.array([[1,0,1,0,1],[0,0,0,1,0],[0,1,1,0,1],[0,0,0,0,1],[1,0,0,0,1]])\n",
    "print(temp_grille)\n",
    "print(getColumnSum(temp_grille,0))\n",
    "print(getRowSum(temp_grille,0))"
   ]
  },
  {
   "cell_type": "code",
   "execution_count": 16,
   "metadata": {},
   "outputs": [
    {
     "name": "stdout",
     "output_type": "stream",
     "text": [
      "La grillette n°40 est gagnante en colonne 0\n",
      "Voici le statut de la grille gagnante :\n",
      " [[1. 0. 0. 0. 0.]\n",
      " [1. 1. 0. 0. 0.]\n",
      " [1. 0. 1. 0. 0.]\n",
      " [1. 0. 0. 0. 1.]\n",
      " [1. 0. 0. 0. 0.]]\n",
      "Voici la grille gagnante :\n",
      " [[32 34 55 90 64]\n",
      " [16  1 94 48 91]\n",
      " [96 45 27 58 63]\n",
      " [98 20 43 73 10]\n",
      " [87 52 49  8 24]]\n",
      "Dernier tirage appelé : 96\n"
     ]
    }
   ],
   "source": [
    "game_status = np.zeros((100,5,5))\n",
    "for tirage in tirages:\n",
    "    # Dérulement du jeu\n",
    "    occurences = np.array(np.where(grilles == int(tirage))).T\n",
    "    for occurence in occurences:\n",
    "        game_status[occurence[0]][occurence[1]][occurence[2]] = 1\n",
    "    # Condition de victoire\n",
    "    for nb_grille,grille in enumerate(game_status):\n",
    "        for j in range(5):\n",
    "            col = getColumnSum(grille,j)\n",
    "            row = getRowSum(grille,j)\n",
    "            if col==5:\n",
    "                print(\"La grillette n°\"+str(nb_grille)+\" est gagnante en colonne \"+str(j))\n",
    "                break\n",
    "            if row==5:\n",
    "                print(\"La grillette n°\"+str(nb_grille)+\" est gagnante en ligne \"+str(j))\n",
    "                break\n",
    "        else:\n",
    "            continue\n",
    "        break\n",
    "    else:\n",
    "        continue\n",
    "    break\n",
    "print(\"Voici le statut de la grille gagnante :\\n\",game_status[nb_grille])\n",
    "print(\"Voici la grille gagnante :\\n\",grilles[nb_grille])\n",
    "print(\"Dernier tirage appelé :\",tirage)"
   ]
  },
  {
   "cell_type": "code",
   "execution_count": 17,
   "metadata": {},
   "outputs": [
    {
     "name": "stdout",
     "output_type": "stream",
     "text": [
      "[[-- 34 55 90 64]\n",
      " [-- -- 94 48 91]\n",
      " [-- 45 -- 58 63]\n",
      " [-- 20 43 73 --]\n",
      " [-- 52 49 8 24]]\n",
      "[34 55 90 64 94 48 91 45 58 63 20 43 73 52 49  8 24]\n",
      "911\n",
      "87456\n"
     ]
    }
   ],
   "source": [
    "masked_grid = np.ma.masked_array(grilles[nb_grille],game_status[nb_grille])\n",
    "print(masked_grid)\n",
    "unmarked_numbers = np.ma.compressed(masked_grid)\n",
    "print(unmarked_numbers)\n",
    "unmarked_sum = sum(unmarked_numbers)\n",
    "print(unmarked_sum)\n",
    "result = int(unmarked_sum)*int(tirage)\n",
    "print(result)"
   ]
  },
  {
   "cell_type": "markdown",
   "metadata": {},
   "source": [
    "# Puzzle 2"
   ]
  },
  {
   "cell_type": "code",
   "execution_count": 18,
   "metadata": {},
   "outputs": [
    {
     "name": "stdout",
     "output_type": "stream",
     "text": [
      "[40, 79, 9, 31, 34, 4, 86, 58, 66, 72, 82, 29, 46, 64, 89, 65, 99, 19, 21, 8, 62, 77, 80, 12, 25, 30, 95, 44, 56, 73, 14, 17, 67, 78, 11, 18, 3, 10, 28, 48, 50, 94, 20, 36, 52, 61, 16, 38, 26, 37, 93, 97, 45, 49, 98, 42, 47, 1, 53, 43, 91, 13, 59, 70, 85, 88, 5, 22, 63, 71, 83, 24, 54, 90, 7, 35, 39, 60, 75, 87, 2, 32, 0, 23, 57, 76, 81, 41, 68, 96, 6, 74, 27, 55, 69, 33, 15, 51, 92, 84]\n",
      "Dernier tirage : 39\n",
      "Voici le statut de la dernière grille gagnante :\n",
      " [[0. 1. 1. 0. 1.]\n",
      " [1. 1. 1. 1. 0.]\n",
      " [1. 1. 1. 1. 1.]\n",
      " [1. 0. 1. 1. 1.]\n",
      " [0. 1. 0. 1. 1.]]\n",
      "Voici la dernière grille gagnante :\n",
      " [[46 11 41 86 21]\n",
      " [31 82 38 23 53]\n",
      " [66 52 39  6  1]\n",
      " [16 95 36  0 69]\n",
      " [28 54 91 99 60]]\n"
     ]
    }
   ],
   "source": [
    "game_status = np.zeros((100,5,5))\n",
    "victoire = []\n",
    "for tirage in tirages:\n",
    "    # Dérulement du jeu\n",
    "    occurences = np.array(np.where(grilles == int(tirage))).T\n",
    "    for occurence in occurences:\n",
    "        game_status[occurence[0]][occurence[1]][occurence[2]] = 1\n",
    "    # Condition de victoire\n",
    "    for nb_grille,grille in enumerate(game_status):\n",
    "        for j in range(5):\n",
    "            col = getColumnSum(grille,j)\n",
    "            row = getRowSum(grille,j)\n",
    "            if col==5:\n",
    "                if nb_grille not in victoire:\n",
    "                    victoire.append(nb_grille)\n",
    "            if row==5:\n",
    "                if nb_grille not in victoire:\n",
    "                    victoire.append(nb_grille)\n",
    "    if len(victoire)==100:\n",
    "        last_tirage = tirage\n",
    "        break\n",
    "print(victoire)\n",
    "print(\"Dernier tirage :\",last_tirage)\n",
    "print(\"Voici le statut de la dernière grille gagnante :\\n\",game_status[victoire[-1]])\n",
    "print(\"Voici la dernière grille gagnante :\\n\",grilles[victoire[-1]])"
   ]
  },
  {
   "cell_type": "code",
   "execution_count": 19,
   "metadata": {},
   "outputs": [
    {
     "name": "stdout",
     "output_type": "stream",
     "text": [
      "[[46 -- -- 86 --]\n",
      " [-- -- -- -- 53]\n",
      " [-- -- -- -- --]\n",
      " [-- 95 -- -- --]\n",
      " [28 -- 91 -- --]]\n",
      "[46 86 53 95 28 91]\n",
      "399\n",
      "15561\n"
     ]
    }
   ],
   "source": [
    "masked_grid = np.ma.masked_array(grilles[victoire[-1]],game_status[victoire[-1]])\n",
    "print(masked_grid)\n",
    "unmarked_numbers = np.ma.compressed(masked_grid)\n",
    "print(unmarked_numbers)\n",
    "unmarked_sum = sum(unmarked_numbers)\n",
    "print(unmarked_sum)\n",
    "result = int(unmarked_sum)*int(tirage)\n",
    "print(result)"
   ]
  },
  {
   "cell_type": "markdown",
   "metadata": {},
   "source": [
    "# Day 5"
   ]
  },
  {
   "cell_type": "markdown",
   "metadata": {},
   "source": [
    "## Puzzle 1"
   ]
  },
  {
   "cell_type": "code",
   "execution_count": 20,
   "metadata": {},
   "outputs": [
    {
     "name": "stdout",
     "output_type": "stream",
     "text": [
      "[[[299 462]\n",
      "  [299 747]]\n",
      "\n",
      " [[855 314]\n",
      "  [855 140]]\n",
      "\n",
      " [[981 328]\n",
      "  [798 328]]]\n",
      "...\n",
      "[[[362 175]\n",
      "  [362 688]]\n",
      "\n",
      " [[403 681]\n",
      "  [403 821]]\n",
      "\n",
      " [[146 183]\n",
      "  [ 23 183]]]\n",
      "...\n",
      "Il y a  500 lignes segments le fichier\n",
      "Maximum  989\n",
      "Minimum  10\n"
     ]
    }
   ],
   "source": [
    "f = open('./inputs/day5/input','r')\n",
    "\n",
    "data = f.read().split('\\n')\n",
    "\n",
    "for i in range(len(data)):\n",
    "    data[i] = data[i].split(\" -> \")\n",
    "    data[i][0] = list(map(int,data[i][0].split(\",\")))\n",
    "    data[i][1] = list(map(int,data[i][1].split(\",\")))\n",
    "data = np.array(data)\n",
    "print(data[0:3])\n",
    "print(\"...\")\n",
    "print(data[-3:])\n",
    "print(\"...\")\n",
    "print(\"Il y a \",len(data),\"lignes segments le fichier\")\n",
    "print(\"Maximum \",np.amax(data))\n",
    "print(\"Minimum \",np.amin(data))"
   ]
  },
  {
   "cell_type": "code",
   "execution_count": 21,
   "metadata": {},
   "outputs": [],
   "source": [
    "def get_segment(couples):\n",
    "    x1 = couples[0][0]\n",
    "    y1 = couples[0][1]\n",
    "    x2 = couples[1][0]\n",
    "    y2 = couples[1][1]\n",
    "    segments = []\n",
    "    if x1==x2:\n",
    "        for y in range (min(y1,y2),max(y1,y2)+1):\n",
    "            segments.append([x1,y])\n",
    "    if y1==y2:\n",
    "        for x in range (min(x1,x2),max(x1,x2)+1):\n",
    "            segments.append([x,y1])\n",
    "    return segments"
   ]
  },
  {
   "cell_type": "code",
   "execution_count": 22,
   "metadata": {},
   "outputs": [],
   "source": [
    "def create_segment_map(data):\n",
    "    segment_map = np.zeros((np.amax(data)+1,np.amax(data)+1))\n",
    "    for couples in data:\n",
    "        segments = get_segment(couples)\n",
    "        for segment in segments:\n",
    "            segment_map[segment[0]][segment[1]] += 1\n",
    "    return (segment_map)"
   ]
  },
  {
   "cell_type": "code",
   "execution_count": 23,
   "metadata": {},
   "outputs": [],
   "source": [
    "def count_sup_1(segment_map):\n",
    "    occurrences_more_than_2 = segment_map >= 2\n",
    "    occurrences_more_than_2 = occurrences_more_than_2.sum()\n",
    "    return(occurrences_more_than_2)"
   ]
  },
  {
   "cell_type": "code",
   "execution_count": 24,
   "metadata": {},
   "outputs": [
    {
     "name": "stdout",
     "output_type": "stream",
     "text": [
      "5576\n"
     ]
    }
   ],
   "source": [
    "print(count_sup_1(create_segment_map(data)))"
   ]
  },
  {
   "cell_type": "markdown",
   "metadata": {},
   "source": [
    "## Puzzle 2"
   ]
  },
  {
   "cell_type": "code",
   "execution_count": 25,
   "metadata": {},
   "outputs": [],
   "source": [
    "from tqdm import tqdm"
   ]
  },
  {
   "cell_type": "code",
   "execution_count": 26,
   "metadata": {},
   "outputs": [
    {
     "name": "stdout",
     "output_type": "stream",
     "text": [
      "[[12, 6], [11, 5], [10, 4], [9, 3]]\n"
     ]
    }
   ],
   "source": [
    "def intermediates(couples):\n",
    "    \"\"\"\"Return a list of nb_points equally spaced points\n",
    "    between p1 and p2\"\"\"\n",
    "    # If we have 8 intermediate points, we have 8+1=9 spaces\n",
    "    # between p1 and p2\n",
    "    p1=couples[0]\n",
    "    p2=couples[1]\n",
    "    nb_points= abs(p2[0]-p1[0])\n",
    "    x_spacing = (p2[0] - p1[0]) / (nb_points)\n",
    "    y_spacing = (p2[1] - p1[1]) / (nb_points)\n",
    "    \n",
    "    result = list([p1[0] + i * x_spacing, p1[1] +  i * y_spacing] for i in range(1, nb_points))\n",
    "    result = [list( map(int,i) ) for i in result]\n",
    "\n",
    "    return result\n",
    "\n",
    "print(intermediates([[13, 7], [8, 2]]))"
   ]
  },
  {
   "cell_type": "code",
   "execution_count": 27,
   "metadata": {},
   "outputs": [],
   "source": [
    "def get_segment_45(couples):\n",
    "    x1 = couples[0][0]\n",
    "    y1 = couples[0][1]\n",
    "    x2 = couples[1][0]\n",
    "    y2 = couples[1][1]\n",
    "    segments = []\n",
    "    if x1==x2:\n",
    "        for y in range (min(y1,y2),max(y1,y2)+1):\n",
    "            segments.append([x1,y])\n",
    "    if y1==y2:\n",
    "        for x in range (min(x1,x2),max(x1,x2)+1):\n",
    "            segments.append([x,y1])\n",
    "    if x1!=x2 and y1!=y2:\n",
    "        segments.append(couples[0])\n",
    "        segments = segments + intermediates(couples)\n",
    "        segments.append(couples[1])\n",
    "    return segments"
   ]
  },
  {
   "cell_type": "code",
   "execution_count": 28,
   "metadata": {},
   "outputs": [
    {
     "data": {
      "text/plain": [
       "[[12, 15], [13, 13], [14, 11], [15, 9]]"
      ]
     },
     "execution_count": 28,
     "metadata": {},
     "output_type": "execute_result"
    }
   ],
   "source": [
    "get_segment_45([[12,15],[15,9]])"
   ]
  },
  {
   "cell_type": "code",
   "execution_count": 29,
   "metadata": {},
   "outputs": [],
   "source": [
    "def create_segment_map_45(data):\n",
    "    segment_map = np.zeros((np.amax(data)+1,np.amax(data)+1))\n",
    "    for couples in tqdm(data):\n",
    "        segments = get_segment_45(couples)\n",
    "        for segment in segments:\n",
    "            segment_map[segment[0]][segment[1]] += 1\n",
    "    return (segment_map)"
   ]
  },
  {
   "cell_type": "code",
   "execution_count": 30,
   "metadata": {},
   "outputs": [
    {
     "name": "stderr",
     "output_type": "stream",
     "text": [
      "100%|██████████| 500/500 [00:00<00:00, 667.59it/s]"
     ]
    },
    {
     "name": "stdout",
     "output_type": "stream",
     "text": [
      "18144\n"
     ]
    },
    {
     "name": "stderr",
     "output_type": "stream",
     "text": [
      "\n"
     ]
    }
   ],
   "source": [
    "print(count_sup_1(create_segment_map_45(data)))"
   ]
  },
  {
   "cell_type": "markdown",
   "metadata": {},
   "source": [
    "# Day 6"
   ]
  },
  {
   "cell_type": "markdown",
   "metadata": {},
   "source": [
    "## Puzzle 1"
   ]
  },
  {
   "cell_type": "code",
   "execution_count": 31,
   "metadata": {},
   "outputs": [
    {
     "name": "stdout",
     "output_type": "stream",
     "text": [
      "352872\n"
     ]
    }
   ],
   "source": [
    "with open(\"inputs/day6/input\") as fin:\n",
    "    raw_data = fin.read().strip().split(\",\")\n",
    "    clocks = [int(i) for i in raw_data]\n",
    "\n",
    "\n",
    "# After 80 days, something like 11 cycles will have gone by\n",
    "# That's a growth rate of more than 2000!\n",
    "# We can probably still brute force this\n",
    "days = 80\n",
    "\n",
    "for _ in range(days):\n",
    "    n = len(clocks)\n",
    "    for i in range(n):\n",
    "        if clocks[i] == 0:\n",
    "            clocks[i] = 6\n",
    "            clocks.append(8)\n",
    "        else:\n",
    "            clocks[i] -= 1\n",
    "\n",
    "ans = len(clocks)\n",
    "print(ans)"
   ]
  },
  {
   "cell_type": "markdown",
   "metadata": {},
   "source": [
    "## Puzzle 2"
   ]
  },
  {
   "cell_type": "code",
   "execution_count": 32,
   "metadata": {},
   "outputs": [
    {
     "name": "stdout",
     "output_type": "stream",
     "text": [
      "defaultdict(<class 'int'>,\n",
      "            {0: 142314924795,\n",
      "             1: 161696103037,\n",
      "             2: 172664695649,\n",
      "             3: 188351404845,\n",
      "             4: 209923822686,\n",
      "             5: 220241339601,\n",
      "             6: 252637217270,\n",
      "             7: 118975198597,\n",
      "             8: 137556475669})\n",
      "1604361182149\n"
     ]
    }
   ],
   "source": [
    "from collections import defaultdict\n",
    "from pprint import pprint\n",
    "\n",
    "with open(\"inputs/day6/input\") as fin:\n",
    "    raw_data = fin.read().strip().split(\",\")\n",
    "    freq = defaultdict(int)\n",
    "    for i in raw_data:\n",
    "        freq[int(i)] += 1\n",
    "\n",
    "\n",
    "# We have to be smart now\n",
    "days = 256\n",
    "\n",
    "for _ in range(days):\n",
    "    # New dict to store frequencies\n",
    "    new_freq = defaultdict(int)\n",
    "\n",
    "    for key in freq:\n",
    "        if key == 0:\n",
    "            new_freq[6] += freq[key]\n",
    "            new_freq[8] = freq[key]\n",
    "        else:\n",
    "            new_freq[key - 1] += freq[key]\n",
    "\n",
    "    freq = new_freq\n",
    "\n",
    "ans = 0\n",
    "pprint(freq)\n",
    "for key in freq:\n",
    "    ans += freq[key]\n",
    "print(ans)"
   ]
  },
  {
   "cell_type": "markdown",
   "metadata": {},
   "source": [
    "# Day 7"
   ]
  },
  {
   "cell_type": "markdown",
   "metadata": {},
   "source": [
    "## Puzzle 1"
   ]
  },
  {
   "cell_type": "code",
   "execution_count": 33,
   "metadata": {},
   "outputs": [
    {
     "data": {
      "text/plain": [
       "0"
      ]
     },
     "execution_count": 33,
     "metadata": {},
     "output_type": "execute_result"
    }
   ],
   "source": [
    "f = open('./inputs/day7/input','r')\n",
    "data = list(map(int,f.read().split(',')))\n",
    "min(data)"
   ]
  },
  {
   "cell_type": "code",
   "execution_count": 34,
   "metadata": {},
   "outputs": [],
   "source": [
    "def compute_fuel_cost(data,gathering_point):\n",
    "    fuel_cost = 0\n",
    "    for position in data:\n",
    "        fuel_cost+=abs(gathering_point-position) # Eache movement costs 1 fuel\n",
    "    return(fuel_cost)"
   ]
  },
  {
   "cell_type": "code",
   "execution_count": 35,
   "metadata": {},
   "outputs": [
    {
     "name": "stdout",
     "output_type": "stream",
     "text": [
      "Meilleur position :  363\n",
      "Cout :  341534\n"
     ]
    }
   ],
   "source": [
    "best_gathering_point = 0\n",
    "best_cost = compute_fuel_cost(data,0)\n",
    "for position in range(min(data),max(data)):\n",
    "    current_cost = compute_fuel_cost(data,position)\n",
    "    if current_cost<best_cost:\n",
    "        best_cost = current_cost\n",
    "        best_gathering_point = position\n",
    "print(\"Meilleur position : \",best_gathering_point)\n",
    "print(\"Cout : \",best_cost)"
   ]
  },
  {
   "cell_type": "markdown",
   "metadata": {},
   "source": [
    "## Puzzle 2"
   ]
  },
  {
   "cell_type": "code",
   "execution_count": 36,
   "metadata": {},
   "outputs": [],
   "source": [
    "def compute_fuel_cost(data,gathering_point):\n",
    "    fuel_cost = 0\n",
    "    for position in data:\n",
    "        n=abs(gathering_point-position)\n",
    "        fuel_cost += n*(n+1)/2 # Each movement costs 1 more fuel thatn the previous one\n",
    "    return(fuel_cost)"
   ]
  },
  {
   "cell_type": "code",
   "execution_count": 37,
   "metadata": {},
   "outputs": [
    {
     "name": "stdout",
     "output_type": "stream",
     "text": [
      "Meilleur position :  484\n",
      "Cout :  93397632.0\n"
     ]
    }
   ],
   "source": [
    "best_gathering_point = 0\n",
    "best_cost = compute_fuel_cost(data,0)\n",
    "for position in range(min(data),max(data)):\n",
    "    current_cost = compute_fuel_cost(data,position)\n",
    "    if current_cost<best_cost:\n",
    "        best_cost = current_cost\n",
    "        best_gathering_point = position\n",
    "print(\"Meilleur position : \",best_gathering_point)\n",
    "print(\"Cout : \",best_cost)"
   ]
  },
  {
   "cell_type": "markdown",
   "metadata": {},
   "source": [
    "## Day 8"
   ]
  },
  {
   "cell_type": "markdown",
   "metadata": {},
   "source": [
    "## Puzzle 1"
   ]
  },
  {
   "cell_type": "code",
   "execution_count": 38,
   "metadata": {},
   "outputs": [
    {
     "data": {
      "text/plain": [
       "['acgbd dafcg fd df',\n",
       " 'bd dcb agdcb fbegdc',\n",
       " 'dagbcef fedgac fcadegb bca',\n",
       " 'ebda gabfced baed bfgec',\n",
       " 'dfgae ba faged agefcdb']"
      ]
     },
     "execution_count": 38,
     "metadata": {},
     "output_type": "execute_result"
    }
   ],
   "source": [
    "f = open('./inputs/day8/input','r')\n",
    "data = [x.split(\" | \") for x in f.read().split(\"\\n\")]\n",
    "input = list(np.array(data).T[0])\n",
    "output = list(np.array(data).T[1])\n",
    "output[0:5]"
   ]
  },
  {
   "cell_type": "code",
   "execution_count": 39,
   "metadata": {},
   "outputs": [
    {
     "data": {
      "text/plain": [
       "521"
      ]
     },
     "execution_count": 39,
     "metadata": {},
     "output_type": "execute_result"
    }
   ],
   "source": [
    "def count_elements(output):\n",
    "    output = [x.split(\" \") for x in output]\n",
    "    output = [item for sublist in output for item in sublist]\n",
    "    compteur = 0\n",
    "    for element in output:\n",
    "        nb_caracteres=element.count(\"\")-1\n",
    "        if nb_caracteres in [2,3,4,7]:\n",
    "            compteur+=1\n",
    "    return compteur\n",
    "count_elements(output)"
   ]
  },
  {
   "cell_type": "markdown",
   "metadata": {},
   "source": [
    "## Puzzle 2"
   ]
  },
  {
   "cell_type": "code",
   "execution_count": 40,
   "metadata": {},
   "outputs": [
    {
     "name": "stdout",
     "output_type": "stream",
     "text": [
      "['gfbd geadcb gaefc agdcf cdgfba dcf abdefc cadbg agfecbd df | acgbd dafcg fd df', 'fdcbge dgfeca eagcd cdb bfcag acdebg dcagb ebgdfca abde db | bd dcb agdcb fbegdc', 'gdabcf gcfdae dagecb acfdgbe fabge fcbd cb adfgc acfgb bca | dagbcef fedgac fcadegb bca']\n"
     ]
    }
   ],
   "source": [
    "f = open('./inputs/day8/input','r')\n",
    "data = f.read().split(\"\\n\")\n",
    "print(data[0:3])"
   ]
  },
  {
   "cell_type": "code",
   "execution_count": 41,
   "metadata": {},
   "outputs": [
    {
     "name": "stderr",
     "output_type": "stream",
     "text": [
      "100%|██████████| 200/200 [00:06<00:00, 32.10it/s]\n"
     ]
    },
    {
     "data": {
      "text/plain": [
       "1016804"
      ]
     },
     "execution_count": 41,
     "metadata": {},
     "output_type": "execute_result"
    }
   ],
   "source": [
    "def permutation(li: list):\n",
    "    all_ps = set()\n",
    "    psl = np.prod(np.linspace(1,len(li), len(li)).astype(int))\n",
    "\n",
    "\n",
    "    while len(all_ps)!=psl:\n",
    "        curr_ps = np.random.choice(range(len(li)), len(li), replace=False)\n",
    "        curr_ps = \"\".join([li[i] for i in curr_ps])\n",
    "        all_ps.add(curr_ps)\n",
    "    return all_ps\n",
    "\n",
    "all_ps = permutation(\"abcdefg\")\n",
    "\n",
    "d = {\n",
    "    \"abcefg\": 0,\n",
    "    \"cf\": 1,\n",
    "    \"acdeg\": 2,\n",
    "    \"acdfg\": 3,\n",
    "    \"bcdf\": 4,\n",
    "    \"abdfg\": 5,\n",
    "    \"abdefg\": 6,\n",
    "    \"acf\": 7,\n",
    "    \"abcdefg\": 8,\n",
    "    \"abcdfg\": 9,\n",
    "}\n",
    "\n",
    "cnts = {2:1, 4:4, 3:7, 7:8}\n",
    "\n",
    "sol1 = 0\n",
    "sol2 = 0\n",
    "\n",
    "for row in tqdm(data):\n",
    "    signals, output = row.split(\" | \")\n",
    "    signals = [s.strip() for s in signals.strip().split(\" \")]\n",
    "    output = [s.strip() for s in output.strip().split(\" \")]\n",
    "\n",
    "    for pr in all_ps:\n",
    "        to = str.maketrans(\"abcdefg\", pr)\n",
    "        ts = [\"\".join(sorted(sig.translate(to))) for sig in signals]\n",
    "        top = [\"\".join(sorted(op.translate(to))) for op in output]\n",
    "\n",
    "        if all(code in d for code in ts):\n",
    "            sol2 += int(\"\".join(str(d[code]) for code in top))            \n",
    "            break\n",
    "sol2  "
   ]
  },
  {
   "cell_type": "markdown",
   "metadata": {},
   "source": [
    "# Day 9"
   ]
  },
  {
   "cell_type": "markdown",
   "metadata": {},
   "source": [
    "## Puzzle 1"
   ]
  },
  {
   "cell_type": "code",
   "execution_count": 42,
   "metadata": {},
   "outputs": [
    {
     "data": {
      "text/plain": [
       "array([[7, 8, 5],\n",
       "       [6, 7, 4],\n",
       "       [5, 4, 3]])"
      ]
     },
     "execution_count": 42,
     "metadata": {},
     "output_type": "execute_result"
    }
   ],
   "source": [
    "f = open('./inputs/day9/input','r')\n",
    "data = np.array([list(x) for x in f.read().split(\"\\n\")]).astype(int)\n",
    "data[0:3,0:3]"
   ]
  },
  {
   "cell_type": "code",
   "execution_count": 43,
   "metadata": {},
   "outputs": [],
   "source": [
    "n = len(data)-1\n",
    "risk_levels = np.zeros((n+1,n+1))\n",
    "\n",
    "# Cas des coins [0,0] , [0,n], [n,0], [n,n]\n",
    "if (data[0,0]<data[0,1]) and (data[0,0]<data[1,0]):\n",
    "    risk_levels[0,0] = data[0,0]+1\n",
    "    \n",
    "if (data[0,n]<data[0,n-1]) and (data[0,n]<data[1,n]):\n",
    "    risk_levels[0,n] = data[0,n]+1\n",
    "    \n",
    "if (data[n,0]<data[n-1,0]) and (data[n,0]<data[n,1]):\n",
    "    risk_levels[n,0] = data[n,0]+1\n",
    "    \n",
    "if (data[n,n]<data[n,n-1]) and (data[n,n]<data[n-1,n]):\n",
    "    risk_levels[n,n] = data[n,n]+1\n",
    "\n",
    "# Cas des bords [0,1:n-1], [n,1:n-1], [1:n-1,0], [1:n-1,n]\n",
    "for j in range(0,n+1):\n",
    "    if (data[0,j]<data[0,j-1]) and (data[0,j]<data[0,j+1]) and (data[0,j]<data[1,j]):\n",
    "        risk_levels[0,j] = data[0,j]+1\n",
    "    if (data[n,j]<data[n,j-1]) and (data[n,j]<data[n,j+1]) and (data[n,j]<data[n-1,j]):\n",
    "        risk_levels[n,j] = data[n,j]+1\n",
    "    if (data[j,0]<data[j-1,0]) and (data[j,0]<data[j+1,0]) and (data[j,0]<data[j,1]):\n",
    "        risk_levels[j,0] = data[j,0]+1\n",
    "    if (data[j,n]<data[j-1,n]) and (data[j,n]<data[j+1,n]) and (data[j,n]<data[j,n-1]):\n",
    "        risk_levels[j,n] = data[j,n]+1\n",
    "\n",
    "# Le reste\n",
    "for i in range(1,n):\n",
    "    for j in range(1,n):\n",
    "        if (data[i,j]<data[i-1,j]) and (data[i,j]<data[i,j-1]) and (data[i,j]<data[i+1,j]) and (data[i,j]<data[i,j+1]):\n",
    "            risk_levels[i,j]=data[i,j]+1\n"
   ]
  },
  {
   "cell_type": "code",
   "execution_count": 44,
   "metadata": {},
   "outputs": [
    {
     "data": {
      "image/png": "[encoded data removed]",
      "text/plain": [
       "<Figure size 1800x1224 with 2 Axes>"
      ]
     },
     "metadata": {
      "needs_background": "light"
     },
     "output_type": "display_data"
    }
   ],
   "source": [
    "import seaborn as sns\n",
    "import matplotlib.pyplot as plt\n",
    "\n",
    "plt.figure(figsize=(25,17))\n",
    "sns.heatmap(risk_levels, annot=True, fmt='g')\n",
    "plt.show()"
   ]
  },
  {
   "cell_type": "code",
   "execution_count": 45,
   "metadata": {},
   "outputs": [
    {
     "data": {
      "text/plain": [
       "535.0"
      ]
     },
     "execution_count": 45,
     "metadata": {},
     "output_type": "execute_result"
    }
   ],
   "source": [
    "risk_levels.sum()"
   ]
  },
  {
   "cell_type": "markdown",
   "metadata": {},
   "source": [
    "## Puzzle 2"
   ]
  },
  {
   "cell_type": "code",
   "execution_count": 46,
   "metadata": {},
   "outputs": [],
   "source": [
    "basins = (data-8*np.ones((n+1,n+1))).clip(min=0)"
   ]
  },
  {
   "cell_type": "code",
   "execution_count": 47,
   "metadata": {},
   "outputs": [
    {
     "data": {
      "image/png": "[encoded data removed]",
      "text/plain": [
       "<Figure size 1800x1224 with 2 Axes>"
      ]
     },
     "metadata": {
      "needs_background": "light"
     },
     "output_type": "display_data"
    }
   ],
   "source": [
    "import seaborn as sns\n",
    "import matplotlib.pyplot as plt\n",
    "\n",
    "plt.figure(figsize=(25,17))\n",
    "sns.heatmap(basins, annot=True, fmt='g')\n",
    "plt.show()"
   ]
  },
  {
   "cell_type": "markdown",
   "metadata": {},
   "source": [
    "## Internet solution"
   ]
  },
  {
   "cell_type": "code",
   "execution_count": 48,
   "metadata": {},
   "outputs": [
    {
     "name": "stdout",
     "output_type": "stream",
     "text": [
      "1122700\n"
     ]
    }
   ],
   "source": [
    "import math\n",
    "groups = []\n",
    "def count_groups(i, j):\n",
    "    if j < 0 or j >= len(data) or i < 0 or i >= len(data[0]) or data[j][i] == 9 or data[j][i] == -1:\n",
    "        return\n",
    "    data[j][i] = -1\n",
    "    groups[len(groups)-1] += 1\n",
    "    count_groups(i+1, j)\n",
    "    count_groups(i-1, j)\n",
    "    count_groups(i, j+1)\n",
    "    count_groups(i, j-1)\n",
    "\n",
    "for i in range(0, len(data)):\n",
    "    for j in range(0, len(data[0])):\n",
    "        groups.append(0)\n",
    "        count_groups(j, i)\n",
    "print(math.prod(sorted(groups, reverse=True)[:3]))"
   ]
  },
  {
   "cell_type": "markdown",
   "metadata": {},
   "source": [
    "# Day 10"
   ]
  },
  {
   "cell_type": "markdown",
   "metadata": {},
   "source": [
    "## Puzzle 1"
   ]
  },
  {
   "cell_type": "code",
   "execution_count": 49,
   "metadata": {},
   "outputs": [
    {
     "data": {
      "text/plain": [
       "['[{{{{{<([({{<[<>()][{}()]>{<{}{}>{[]{}}}}{({{}{}][<>{}])(<<>()><{}<>>)}}<[<({}())<{}{}>>[[()[]](<>[])]]<(',\n",
       " '(<<({{({((([[{(){}}(<><>)][{[][]}<()()>>][[[()<>]<()()>]])))}(<(<[[{()<>}]({<>{}})]><<(<()[]>[[]{}])>[{{[',\n",
       " '<{<{({[<{<{([<<><>>[()[]]])[<{[]<>}<<>()>>]}{{<(()<>)<(){}>>(<[]<>>)}[<[()[]]<<>{}>>[{{}{}}[<><>]]>}>({',\n",
       " '[[[[[(<{(<<{<({}<>)<<><>>>{<<>()><<>()>]}<[<{}{}>{<>()}]<[{}[]][{}()]>>>[<({[]}{{}[]})<{<>{',\n",
       " '[[{[<(<(<(({{<{}()>{{}<>}}[<()[]><<>{}>]}(<[{}[]][{}[]]><<<>{}><()<>>])))>[[(({[{}[]][{}{}]}{<<>()>[(){}]']"
      ]
     },
     "execution_count": 49,
     "metadata": {},
     "output_type": "execute_result"
    }
   ],
   "source": [
    "f = open('./inputs/day10/input','r')\n",
    "data = f.read().split(\"\\n\")\n",
    "data[0:5]"
   ]
  },
  {
   "cell_type": "code",
   "execution_count": 50,
   "metadata": {},
   "outputs": [],
   "source": [
    "openings = ['{','[','(','<']\n",
    "endings = ['}',']',')','>']"
   ]
  },
  {
   "cell_type": "code",
   "execution_count": 51,
   "metadata": {},
   "outputs": [
    {
     "name": "stdout",
     "output_type": "stream",
     "text": [
      "Expected } but found ]\n",
      "Expected ] but found >\n",
      "Expected ] but found >\n",
      "Expected } but found ]\n",
      "Expected > but found ]\n",
      "Expected ) but found >\n",
      "Expected ) but found >\n",
      "Expected > but found }\n",
      "Expected ] but found )\n",
      "Expected ] but found >\n",
      "Expected ] but found )\n",
      "Expected } but found >\n",
      "Expected ) but found }\n",
      "Expected ] but found >\n",
      "Expected ] but found >\n",
      "Expected ] but found )\n",
      "Expected > but found ]\n",
      "Expected ) but found ]\n",
      "Expected ] but found >\n",
      "Expected > but found )\n",
      "Expected > but found )\n",
      "Expected ) but found >\n",
      "Expected > but found ]\n",
      "Expected } but found >\n",
      "Expected } but found )\n",
      "Expected ] but found )\n",
      "Expected ) but found }\n",
      "Expected ) but found }\n",
      "Expected } but found ]\n",
      "Expected ] but found )\n",
      "Expected ) but found >\n",
      "Expected ) but found ]\n",
      "Expected } but found ]\n",
      "Expected ) but found }\n",
      "Expected ] but found >\n",
      "Expected } but found )\n",
      "Expected } but found ]\n",
      "Expected } but found ]\n",
      "Expected ) but found >\n",
      "Expected ] but found }\n",
      "Expected ) but found }\n",
      "Expected } but found ]\n",
      "Expected } but found >\n",
      "Expected } but found >\n",
      "Expected > but found }\n",
      "Expected ) but found }\n",
      "Expected ) but found ]\n",
      "[']', '>', '>', ']', ']', '>', '>', '}', ')', '>', ')', '>', '}', '>', '>', ')', ']', ']', '>', ')', ')', '>', ']', '>', ')', ')', '}', '}', ']', ')', '>', ']', ']', '}', '>', ')', ']', ']', '>', '}', '}', ']', '>', '>', '}', '}', ']']\n"
     ]
    }
   ],
   "source": [
    "faulty_signs = []\n",
    "for line in data:\n",
    "    current_openings = []\n",
    "    for character in line:\n",
    "        if character in openings:\n",
    "            current_openings.append(character)\n",
    "        if character in endings:\n",
    "            if current_openings[-1]==openings[endings.index(character)]:\n",
    "                current_openings.pop()\n",
    "            else :\n",
    "                print(\"Expected {} but found {}\".format(endings[openings.index(current_openings[-1])], character))\n",
    "                faulty_signs.append(character)\n",
    "                break\n",
    "print(faulty_signs)"
   ]
  },
  {
   "cell_type": "code",
   "execution_count": 52,
   "metadata": {},
   "outputs": [
    {
     "name": "stdout",
     "output_type": "stream",
     "text": [
      "413733\n"
     ]
    }
   ],
   "source": [
    "Total = 0\n",
    "for sign in faulty_signs:\n",
    "    if sign==\")\":\n",
    "        Total += 3\n",
    "    if sign==\"}\":\n",
    "        Total += 1197\n",
    "    if sign==\"]\":\n",
    "        Total += 57\n",
    "    if sign==\">\":\n",
    "        Total += 25137\n",
    "print(Total)"
   ]
  },
  {
   "cell_type": "markdown",
   "metadata": {},
   "source": [
    "## Puzzle 2"
   ]
  },
  {
   "cell_type": "code",
   "execution_count": 53,
   "metadata": {},
   "outputs": [
    {
     "name": "stdout",
     "output_type": "stream",
     "text": [
      "Left Open : ['<', '(', '[', '[', '<', '<', '(', '(', '[', '<', '(', '<', '<', '{']\n",
      "}>>)>]))>>]])>\n",
      "Left Open : ['<', '{', '{', '{', '[', '{', '[', '(', '(', '{', '<', '<', '<', '(', '[']\n",
      "])>>>}))]}]}}}>\n",
      "Left Open : ['{', '{', '<', '(', '{', '<', '<', '<', '{', '<', '(', '[', '<', '[']\n",
      "]>])>}>>>})>}}\n",
      "Left Open : ['[', '(', '[', '(', '[', '(', '<', '(', '(', '{', '{', '(', '<', '[']\n",
      "]>)}}))>)])])]\n",
      "Left Open : ['<', '[', '(', '(', '<', '[', '[', '{', '[', '<', '<', '{', '{', '[']\n",
      "]}}>>]}]]>))]>\n",
      "Left Open : ['<', '<', '<', '<', '<', '(', '{', '[', '{', '(', '{']\n",
      "})}]})>>>>>\n",
      "Left Open : ['[', '{', '{', '(', '<', '[', '{', '<', '<', '{', '(', '(', '{', '{', '{']\n",
      "}}}))}>>}]>)}}]\n",
      "Left Open : ['<', '[', '<', '{', '(', '<', '[', '(', '{', '(', '(', '[']\n",
      "]))})]>)}>]>\n",
      "Left Open : ['<', '<', '<', '{', '(', '<', '(', '<', '<', '[', '(', '(', '<', '[', '(']\n",
      ")]>))]>>)>)}>>>\n",
      "Left Open : ['[', '{', '(', '(', '[', '[', '(', '{', '[', '(', '<', '{', '<', '{']\n",
      "}>}>)]})]]))}]\n",
      "Left Open : ['{', '(', '<', '(', '{', '<', '(', '{', '<', '{', '<']\n",
      ">}>})>})>)}\n",
      "Left Open : ['<', '{', '{', '<', '<', '(', '{', '{', '<', '(', '(', '(', '[', '[']\n",
      "]])))>}})>>}}>\n",
      "Left Open : ['{', '<', '(', '{', '(', '{', '{', '[', '(', '{', '<', '(']\n",
      ")>})]}})})>}\n",
      "Left Open : ['[', '<', '<', '<', '[', '<', '{']\n",
      "}>]>>>]\n",
      "Left Open : ['(', '<', '[', '<', '(', '[', '{', '(', '{', '{', '<', '<', '(', '<', '<']\n",
      ">>)>>}})}])>]>)\n",
      "Left Open : ['<', '{', '(', '{', '(', '<', '<', '<', '{', '{', '[']\n",
      "]}}>>>)})}>\n",
      "Left Open : ['<', '(', '<', '(', '{', '{', '[', '{', '{', '<']\n",
      ">}}]}})>)>\n",
      "Left Open : ['[', '[', '[', '[', '<', '(', '<', '{', '{', '<', '<', '[', '{', '{']\n",
      "}}]>>}}>)>]]]]\n",
      "Left Open : ['{', '<', '[', '{', '<', '[', '[', '{', '{', '{', '(', '<', '(']\n",
      ")>)}}}]]>}]>}\n",
      "Left Open : ['<', '[', '[', '(', '<', '<', '<', '<', '{', '(']\n",
      ")}>>>>)]]>\n",
      "Left Open : ['<', '[', '<', '[', '{', '(', '[', '<', '{', '{', '<', '{', '{', '[']\n",
      "]}}>}}>])}]>]>\n",
      "Left Open : ['<', '[', '{', '<', '{', '<', '[', '<', '[', '[', '(', '(', '[', '{', '<']\n",
      ">}]))]]>]>}>}]>\n",
      "Left Open : ['<', '{', '{', '{', '<', '[', '[', '{', '<', '(', '[', '<', '{', '[']\n",
      "]}>])>}]]>}}}>\n",
      "Left Open : ['<', '[', '[', '{', '{', '{', '{', '(', '<', '{', '{', '{', '{', '{']\n",
      "}}}}}>)}}}}]]>\n",
      "Left Open : ['{', '<', '<', '{', '<', '{', '(', '(', '[', '(', '[', '(', '{', '[', '<']\n",
      ">]})])]))}>}>>}\n",
      "Left Open : ['<', '{', '{', '<', '(', '<', '{', '<', '[', '<', '(', '{']\n",
      "})>]>}>)>}}>\n",
      "Left Open : ['[', '(', '(', '[', '<', '<', '<', '[', '{', '{', '<', '[', '(']\n",
      ")]>}}]>>>]))]\n",
      "Left Open : ['(', '(', '<', '(', '<', '{', '(', '<', '(', '{', '{', '<']\n",
      ">}})>)}>)>))\n",
      "Left Open : ['(', '[', '{', '[', '<', '(', '<', '(', '(']\n",
      "))>)>]}])\n",
      "Left Open : ['{', '[', '<', '<', '(', '<', '<', '[', '(', '{', '<', '(']\n",
      ")>})]>>)>>]}\n",
      "Left Open : ['(', '<', '(', '<', '<', '{', '{', '[', '[', '(', '{', '<', '[', '{']\n",
      "}]>})]]}}>>)>)\n",
      "Left Open : ['(', '<', '[', '[', '[', '[', '[', '(', '{', '<', '{', '<', '(', '<']\n",
      ">)>}>})]]]]]>)\n",
      "Left Open : ['(', '[', '[', '<', '(', '<', '[', '(', '<', '[', '{', '(', '[']\n",
      "])}]>)]>)>]])\n",
      "Left Open : ['(', '(', '(', '(', '(', '{', '(', '{', '<', '{', '(', '[', '(', '<', '(']\n",
      ")>)])}>})})))))\n",
      "Left Open : ['<', '{', '[', '(', '{', '{', '{', '{', '<', '<', '(', '[', '<']\n",
      ">])>>}}}})]}>\n",
      "Left Open : ['[', '(', '{', '(', '(', '[', '(', '{', '{', '[', '<', '(', '(', '{']\n",
      "}))>]}})]))})]\n",
      "Left Open : ['<', '(', '<', '(', '{', '(', '(', '[', '{', '(', '{', '(', '[']\n",
      "])})}]))})>)>\n",
      "Left Open : ['<', '(', '[', '[', '(', '{', '[', '[', '[', '[', '[', '[', '{', '{', '<']\n",
      ">}}]]]]]]})]])>\n",
      "Left Open : ['(', '(', '[', '<', '<', '[', '{', '{', '{', '{', '[', '{']\n",
      "}]}}}}]>>]))\n",
      "Left Open : ['<', '(', '<', '[', '(', '{', '<', '<', '[', '(', '(', '{', '{', '<']\n",
      ">}}))]>>})]>)>\n",
      "Left Open : ['<', '[', '<', '{', '<', '(', '<', '(', '<', '[', '(', '{', '<', '[', '(']\n",
      ")]>})]>)>)>}>]>\n",
      "Left Open : ['[', '(', '<', '{', '{', '<', '{', '{', '(', '(', '{', '(', '[']\n",
      "])}))}}>}}>)]\n",
      "Left Open : ['[', '[', '<', '[', '{', '<', '(', '<', '[', '(', '(', '<', '<', '{', '(']\n",
      ")}>>))]>)>}]>]]\n",
      "Left Open : ['[', '(', '[', '{', '<', '{', '{', '<', '[', '{', '<', '<', '<']\n",
      ">>>}]>}}>}])]\n",
      "Left Open : ['[', '{', '[', '(', '<', '<', '(', '<', '[', '[', '{', '{', '{', '[']\n",
      "]}}}]]>)>>)]}]\n",
      "Left Open : ['(', '(', '(', '(', '<', '{', '{', '(', '<', '[', '<', '<', '[', '(']\n",
      ")]>>]>)}}>))))\n",
      "Left Open : ['[', '(', '[', '<', '<', '(', '{', '(', '(', '[', '<', '(', '{', '(']\n",
      ")})>]))})>>])]\n"
     ]
    }
   ],
   "source": [
    "f = open('./inputs/day10/input','r')\n",
    "data = f.read().split(\"\\n\")\n",
    "faulty_signs = []\n",
    "completion_strings = []\n",
    "for line in data:\n",
    "    status = \"OK\"\n",
    "    current_openings = []\n",
    "    for character in line:\n",
    "        if character in openings:\n",
    "            current_openings.append(character)\n",
    "        if character in endings:\n",
    "            if current_openings[-1]==openings[endings.index(character)]:\n",
    "                current_openings.pop()\n",
    "            else :\n",
    "                # print(\"Expected {} but found {}\".format(endings[openings.index(current_openings[-1])], character))\n",
    "                faulty_signs.append(character)\n",
    "                status = \"corrupted\"\n",
    "                break\n",
    "    if status==\"OK\" and len(current_openings)!=0:\n",
    "        print(\"Left Open : {}\".format(current_openings))\n",
    "        completion_string = \"\"\n",
    "        for missing_character in current_openings:\n",
    "            completion_string = completion_string+str(endings[openings.index(missing_character)])\n",
    "        completion_string = completion_string[::-1]\n",
    "        completion_strings.append(completion_string)\n",
    "        print(completion_string)"
   ]
  },
  {
   "cell_type": "code",
   "execution_count": 54,
   "metadata": {},
   "outputs": [],
   "source": [
    "def get_score(completion_strings):\n",
    "    score = {\")\":1,\"]\":2,\"}\":3,\">\":4}\n",
    "    score_table = []\n",
    "    for completion_string in completion_strings:\n",
    "        string_score = 0\n",
    "        for character in completion_string:\n",
    "            string_score = string_score*5 + score[character]\n",
    "        score_table.append(string_score)\n",
    "    score_table.sort()\n",
    "    return(score_table)"
   ]
  },
  {
   "cell_type": "code",
   "execution_count": 55,
   "metadata": {},
   "outputs": [
    {
     "name": "stdout",
     "output_type": "stream",
     "text": [
      "[61247, 537211, 3515189, 9261484, 26951044]\n",
      "47\n",
      "3354640192\n"
     ]
    }
   ],
   "source": [
    "score_table = get_score(completion_strings)\n",
    "print(score_table[0:5])\n",
    "print(len(score_table))\n",
    "result = score_table[int((len(score_table)-1)/2)]\n",
    "print(result)"
   ]
  },
  {
   "cell_type": "markdown",
   "metadata": {},
   "source": [
    "# Day 11"
   ]
  },
  {
   "cell_type": "markdown",
   "metadata": {},
   "source": [
    "## Puzzle 1"
   ]
  },
  {
   "cell_type": "code",
   "execution_count": 67,
   "metadata": {},
   "outputs": [
    {
     "data": {
      "text/plain": [
       "array([[7, 1, 4, 7, 7, 1, 3, 5, 5, 6],\n",
       "       [6, 1, 6, 7, 7, 3, 3, 5, 5, 5],\n",
       "       [5, 1, 8, 3, 4, 8, 2, 1, 1, 8],\n",
       "       [3, 8, 8, 5, 4, 2, 4, 5, 2, 1],\n",
       "       [7, 5, 3, 3, 6, 4, 4, 6, 1, 1],\n",
       "       [3, 8, 7, 7, 7, 6, 4, 8, 6, 3],\n",
       "       [7, 6, 3, 6, 8, 7, 4, 3, 3, 3],\n",
       "       [8, 6, 8, 7, 1, 8, 8, 5, 3, 3],\n",
       "       [7, 4, 6, 7, 1, 1, 5, 2, 6, 5],\n",
       "       [1, 6, 2, 6, 5, 7, 3, 1, 3, 4]])"
      ]
     },
     "execution_count": 67,
     "metadata": {},
     "output_type": "execute_result"
    }
   ],
   "source": [
    "f = open('./inputs/day11/input','r')\n",
    "grid = np.array([list(x) for x in f.read().split(\"\\n\")]).astype(int)\n",
    "grid"
   ]
  },
  {
   "cell_type": "code",
   "execution_count": 69,
   "metadata": {},
   "outputs": [
    {
     "name": "stdout",
     "output_type": "stream",
     "text": [
      "Part 1: 1620\n",
      "Part 2: 371\n"
     ]
    }
   ],
   "source": [
    "adj = [(i,j) for i in range(-1, 2) for j in range(-1,2) if i!=0 or j!=0]\n",
    "window = {(i,j):grid[i][j] for i in range(10) for j in range(10)}\n",
    "flashes = 0\n",
    "i=0\n",
    "previous = set()\n",
    "\n",
    "while len(previous)<len(window):\n",
    "    previous = set()\n",
    "    window = {k:v+1 for k, v in window.items()}\n",
    "    while True:\n",
    "        if sum(v>9 for k,v in window.items() if k not in previous)==0:\n",
    "            break\n",
    "\n",
    "        for k,v in window.items():\n",
    "            if k not in previous and v>9:\n",
    "                previous.add(k)\n",
    "                for ad in [(k[0]+i,k[1]+j) for i,j in adj if (k[0]+i,k[1]+j) in window]:\n",
    "                    window[ad]+=1\n",
    "\n",
    "    flashes+=len(previous)\n",
    "    window.update({k:0 for k in previous})\n",
    "    i+=1\n",
    "    if i==100:\n",
    "        print(f\"Part 1: {flashes}\")\n",
    "\n",
    "print(f\"Part 2: {i}\")"
   ]
  },
  {
   "cell_type": "markdown",
   "metadata": {},
   "source": [
    "# Day 12"
   ]
  },
  {
   "cell_type": "markdown",
   "metadata": {},
   "source": [
    "## Puzzle 1"
   ]
  },
  {
   "cell_type": "code",
   "execution_count": null,
   "metadata": {},
   "outputs": [],
   "source": []
  }
 ],
 "metadata": {
  "interpreter": {
   "hash": "916dbcbb3f70747c44a77c7bcd40155683ae19c65e1c03b4aa3499c5328201f1"
  },
  "kernelspec": {
   "display_name": "Python 3.8.10 64-bit",
   "language": "python",
   "name": "python3"
  },
  "language_info": {
   "codemirror_mode": {
    "name": "ipython",
    "version": 3
   },
   "file_extension": ".py",
   "mimetype": "text/x-python",
   "name": "python",
   "nbconvert_exporter": "python",
   "pygments_lexer": "ipython3",
   "version": "3.8.10"
  },
  "orig_nbformat": 4
 },
 "nbformat": 4,
 "nbformat_minor": 2
}
