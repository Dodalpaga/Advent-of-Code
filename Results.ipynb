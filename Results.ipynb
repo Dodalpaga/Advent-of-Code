{
 "cells": [
  {
   "cell_type": "markdown",
   "metadata": {},
   "source": [
    "# Advent of Code : https://adventofcode.com/"
   ]
  },
  {
   "cell_type": "markdown",
   "metadata": {},
   "source": [
    "# Imports"
   ]
  },
  {
   "cell_type": "code",
   "execution_count": null,
   "metadata": {},
   "outputs": [],
   "source": [
    "import numpy as np\n",
    "import pandas as pd"
   ]
  },
  {
   "cell_type": "markdown",
   "metadata": {},
   "source": [
    "# Day 1"
   ]
  },
  {
   "cell_type": "markdown",
   "metadata": {},
   "source": [
    "### Puzzle 1"
   ]
  },
  {
   "cell_type": "code",
   "execution_count": null,
   "metadata": {},
   "outputs": [],
   "source": [
    "f = open('./inputs/day1/input','r')\n",
    "data = np.array(f.read().split('\\n'))[:-1].astype(int)\n",
    "data[0:5]"
   ]
  },
  {
   "cell_type": "code",
   "execution_count": null,
   "metadata": {},
   "outputs": [],
   "source": [
    "counter=0\n",
    "for i in range(len(data)-1):\n",
    "    if data[i+1] > data[(i)]:\n",
    "        counter+=1\n",
    "print(counter)"
   ]
  },
  {
   "cell_type": "markdown",
   "metadata": {},
   "source": [
    "### Puzzle 2"
   ]
  },
  {
   "cell_type": "code",
   "execution_count": null,
   "metadata": {},
   "outputs": [],
   "source": [
    "counter = 0\n",
    "for i in range(len(data)-3):\n",
    "    if data[i+1] + data[i+2] + data[i+3] > data[i] + data[i+1] + data[i+2]:\n",
    "        counter+=1\n",
    "print(counter)"
   ]
  },
  {
   "cell_type": "markdown",
   "metadata": {},
   "source": [
    "# Day 2"
   ]
  },
  {
   "cell_type": "markdown",
   "metadata": {},
   "source": [
    "## Puzzle 1"
   ]
  },
  {
   "cell_type": "code",
   "execution_count": null,
   "metadata": {},
   "outputs": [],
   "source": [
    "f = open('./inputs/day2/input','r')\n",
    "data = np.array(f.read().split('\\n'))\n",
    "print(data[0:15])\n",
    "print(data[-1])"
   ]
  },
  {
   "cell_type": "code",
   "execution_count": null,
   "metadata": {},
   "outputs": [],
   "source": [
    "position = [0,0] # Horizontal / Depth\n",
    "for movement in data:\n",
    "    if movement.split(\" \")[0]==\"forward\":\n",
    "        position[0] = position[0] + int(movement.split(\" \")[1])\n",
    "    if movement.split(\" \")[0]==\"up\":\n",
    "        position[1] = position[1] - int(movement.split(\" \")[1])\n",
    "    if movement.split(\" \")[0]==\"down\":\n",
    "        position[1] = position[1] + int(movement.split(\" \")[1])\n",
    "print(position)\n",
    "result = position[0]*position[1]\n",
    "print(result)"
   ]
  },
  {
   "cell_type": "markdown",
   "metadata": {},
   "source": [
    "## Puzzle 2"
   ]
  },
  {
   "cell_type": "code",
   "execution_count": null,
   "metadata": {},
   "outputs": [],
   "source": [
    "position = [0,0,0] # Horizontal / Depth / Aim\n",
    "for movement in data:\n",
    "    if movement.split(\" \")[0]==\"forward\":\n",
    "        position[0] = position[0] + int(movement.split(\" \")[1])\n",
    "        position[1] = position[1] + position[2]*int(movement.split(\" \")[1])\n",
    "    if movement.split(\" \")[0]==\"up\":\n",
    "        position[2] = position[2] - int(movement.split(\" \")[1])\n",
    "    if movement.split(\" \")[0]==\"down\":\n",
    "        position[2] = position[2] + int(movement.split(\" \")[1])\n",
    "print(position)\n",
    "result = position[0]*position[1]\n",
    "print(result)"
   ]
  },
  {
   "cell_type": "markdown",
   "metadata": {},
   "source": [
    "# Day 3"
   ]
  },
  {
   "cell_type": "markdown",
   "metadata": {},
   "source": [
    "## Puzzle 1"
   ]
  },
  {
   "cell_type": "code",
   "execution_count": null,
   "metadata": {},
   "outputs": [],
   "source": [
    "f = open('./inputs/day3/input','r')\n",
    "data = np.array(f.read().split('\\n'))\n",
    "print(data[0:15])\n",
    "print(data[-1])"
   ]
  },
  {
   "cell_type": "code",
   "execution_count": null,
   "metadata": {},
   "outputs": [],
   "source": [
    "ones = np.zeros(12)\n",
    "for observation in data:\n",
    "    for i,digit in enumerate(observation):\n",
    "        ones[i] = ones[i]+int(digit)\n",
    "\n",
    "print(\"Répartition des 1 :\",ones)\n",
    "\n",
    "gamma_rate = (ones>(len(data)/2))*1\n",
    "epsilon_rate = (1-gamma_rate)\n",
    "\n",
    "gamma_rate_bin = ''.join(map(str, gamma_rate))\n",
    "epsilon_rate_bin = ''.join(map(str, epsilon_rate))\n",
    "\n",
    "print(\"Gamma rate (bin):\",gamma_rate_bin)\n",
    "print(\"Epsilon rate (bin):\",epsilon_rate_bin)\n",
    "\n",
    "gamma_rate = int(gamma_rate_bin,2)\n",
    "epsilon_rate = int(epsilon_rate_bin,2)\n",
    "\n",
    "print(\"Gamma rate :\",gamma_rate)\n",
    "print(\"Epsilon rate :\",epsilon_rate)\n",
    "\n",
    "print(\"Power consumption :\",gamma_rate*epsilon_rate)"
   ]
  },
  {
   "cell_type": "markdown",
   "metadata": {},
   "source": [
    "## Puzzle 2\n",
    "#### Note that the Gamma Rate corresponds to the most occuring digit in its position. Let's use that for our problem..."
   ]
  },
  {
   "cell_type": "code",
   "execution_count": null,
   "metadata": {},
   "outputs": [],
   "source": [
    "remaining = list(data.copy())\n",
    "for i in range(len(remaining[0])):\n",
    "    if len(remaining)==1:\n",
    "        break\n",
    "    print(\"Taille de la liste :\",len(remaining))\n",
    "    ones = 0\n",
    "    for observation in remaining:\n",
    "        ones = ones+int(observation[i])\n",
    "    print(\"Répartition des 1 :\",ones,\". Cela correspond à une proportion de :\",ones/len(remaining))\n",
    "    majoritaire = ones>=(len(remaining)/2)\n",
    "    print(\"Majorités en binaire :\",majoritaire)\n",
    "    \n",
    "    correct = []\n",
    "    for observation in remaining:\n",
    "        if int(observation[i])==int(majoritaire*1):\n",
    "            correct.append(observation)\n",
    "        else:\n",
    "            continue\n",
    "\n",
    "    remaining = correct.copy()\n",
    "    print(\"Taille de la liste :\",len(remaining))\n",
    "    print(\"--------------------------------\")\n",
    "\n",
    "O2_scrubber_rating = remaining[0]\n",
    "\n",
    "print(\"O2 Scrubber Rating :\",O2_scrubber_rating)"
   ]
  },
  {
   "cell_type": "code",
   "execution_count": null,
   "metadata": {},
   "outputs": [],
   "source": [
    "remaining = list(data.copy())\n",
    "for i in range(len(remaining[0])):\n",
    "    if len(remaining)==1:\n",
    "        break\n",
    "    print(\"Taille de la liste :\",len(remaining))\n",
    "    ones = 0\n",
    "    for observation in remaining:\n",
    "        ones = ones+int(observation[i])\n",
    "    print(\"Répartition des 1 :\",ones,\". Cela correspond à une proportion de :\",ones/len(remaining))\n",
    "    minoritaire = ones<(len(remaining)/2)\n",
    "    print(\"Majorités en binaire :\",minoritaire)\n",
    "    \n",
    "    correct = []\n",
    "    for observation in remaining:\n",
    "        if int(observation[i])==int(minoritaire*1):\n",
    "            correct.append(observation)\n",
    "        else:\n",
    "            continue\n",
    "\n",
    "    remaining = correct.copy()\n",
    "    print(\"Taille de la liste :\",len(remaining))\n",
    "    print(\"--------------------------------\")\n",
    "\n",
    "CO2_scrubber_rating = remaining[0]\n",
    "\n",
    "print(\"CO2 Scrubber Rating :\",CO2_scrubber_rating)"
   ]
  },
  {
   "cell_type": "code",
   "execution_count": null,
   "metadata": {},
   "outputs": [],
   "source": [
    "O2_scrubber_rating = int(O2_scrubber_rating,2)\n",
    "CO2_scrubber_rating = int(CO2_scrubber_rating,2)\n",
    "print(\"Le taux de dioxygène :\",O2_scrubber_rating)\n",
    "print(\"Le taux de dioxyde de carbone :\",CO2_scrubber_rating)"
   ]
  },
  {
   "cell_type": "code",
   "execution_count": null,
   "metadata": {},
   "outputs": [],
   "source": [
    "Life_support_rating = O2_scrubber_rating*CO2_scrubber_rating\n",
    "Life_support_rating"
   ]
  },
  {
   "cell_type": "markdown",
   "metadata": {},
   "source": [
    "# Day 4"
   ]
  },
  {
   "cell_type": "markdown",
   "metadata": {},
   "source": [
    "## Puzzle 1"
   ]
  },
  {
   "cell_type": "code",
   "execution_count": null,
   "metadata": {},
   "outputs": [],
   "source": [
    "f = open('./inputs/day4/input','r')\n",
    "lines = f.readlines()\n",
    "data = np.array(f.read().split('\\n\\n'))\n",
    "tirages = lines.pop(0)[:-1].split(\",\")\n",
    "\n",
    "print(tirages)\n",
    "print(\"\\n\")\n",
    "converted_list = []\n",
    "\n",
    "for element in lines:\n",
    "    converted_list.append(element.strip())\n",
    "converted_list = list(filter(None, converted_list))\n",
    "\n",
    "grilles = []\n",
    "for i in range(0,len(converted_list),5):\n",
    "    grille=[]\n",
    "    for j in range(5):\n",
    "        row = converted_list[i+j].split(\" \")\n",
    "        row = list(filter(None, row))\n",
    "        grille.append(row)\n",
    "    grilles.append(grille)\n",
    "    \n",
    "grilles = np.array(grilles).astype(int)\n",
    "print(grilles.shape)\n",
    "print(grilles[0:3])"
   ]
  },
  {
   "cell_type": "code",
   "execution_count": null,
   "metadata": {},
   "outputs": [],
   "source": [
    "def getColumnSum(grille,column):\n",
    "    return np.sum(grille[:,column])\n",
    "def getRowSum(grille,row):\n",
    "    return np.sum(grille[row,:])\n",
    "\n",
    "temp_grille = np.array([[1,0,1,0,1],[0,0,0,1,0],[0,1,1,0,1],[0,0,0,0,1],[1,0,0,0,1]])\n",
    "print(temp_grille)\n",
    "print(getColumnSum(temp_grille,0))\n",
    "print(getRowSum(temp_grille,0))"
   ]
  },
  {
   "cell_type": "code",
   "execution_count": null,
   "metadata": {},
   "outputs": [],
   "source": [
    "game_status = np.zeros((100,5,5))\n",
    "for tirage in tirages:\n",
    "    # Dérulement du jeu\n",
    "    occurences = np.array(np.where(grilles == int(tirage))).T\n",
    "    for occurence in occurences:\n",
    "        game_status[occurence[0]][occurence[1]][occurence[2]] = 1\n",
    "    # Condition de victoire\n",
    "    for nb_grille,grille in enumerate(game_status):\n",
    "        for j in range(5):\n",
    "            col = getColumnSum(grille,j)\n",
    "            row = getRowSum(grille,j)\n",
    "            if col==5:\n",
    "                print(\"La grillette n°\"+str(nb_grille)+\" est gagnante en colonne \"+str(j))\n",
    "                break\n",
    "            if row==5:\n",
    "                print(\"La grillette n°\"+str(nb_grille)+\" est gagnante en ligne \"+str(j))\n",
    "                break\n",
    "        else:\n",
    "            continue\n",
    "        break\n",
    "    else:\n",
    "        continue\n",
    "    break\n",
    "print(\"Voici le statut de la grille gagnante :\\n\",game_status[nb_grille])\n",
    "print(\"Voici la grille gagnante :\\n\",grilles[nb_grille])\n",
    "print(\"Dernier tirage appelé :\",tirage)"
   ]
  },
  {
   "cell_type": "code",
   "execution_count": null,
   "metadata": {},
   "outputs": [],
   "source": [
    "masked_grid = np.ma.masked_array(grilles[nb_grille],game_status[nb_grille])\n",
    "print(masked_grid)\n",
    "unmarked_numbers = np.ma.compressed(masked_grid)\n",
    "print(unmarked_numbers)\n",
    "unmarked_sum = sum(unmarked_numbers)\n",
    "print(unmarked_sum)\n",
    "result = int(unmarked_sum)*int(tirage)\n",
    "print(result)"
   ]
  },
  {
   "cell_type": "markdown",
   "metadata": {},
   "source": [
    "# Puzzle 2"
   ]
  },
  {
   "cell_type": "code",
   "execution_count": null,
   "metadata": {},
   "outputs": [],
   "source": [
    "game_status = np.zeros((100,5,5))\n",
    "victoire = []\n",
    "for tirage in tirages:\n",
    "    # Dérulement du jeu\n",
    "    occurences = np.array(np.where(grilles == int(tirage))).T\n",
    "    for occurence in occurences:\n",
    "        game_status[occurence[0]][occurence[1]][occurence[2]] = 1\n",
    "    # Condition de victoire\n",
    "    for nb_grille,grille in enumerate(game_status):\n",
    "        for j in range(5):\n",
    "            col = getColumnSum(grille,j)\n",
    "            row = getRowSum(grille,j)\n",
    "            if col==5:\n",
    "                if nb_grille not in victoire:\n",
    "                    victoire.append(nb_grille)\n",
    "            if row==5:\n",
    "                if nb_grille not in victoire:\n",
    "                    victoire.append(nb_grille)\n",
    "    if len(victoire)==100:\n",
    "        last_tirage = tirage\n",
    "        break\n",
    "print(victoire)\n",
    "print(\"Dernier tirage :\",last_tirage)\n",
    "print(\"Voici le statut de la dernière grille gagnante :\\n\",game_status[victoire[-1]])\n",
    "print(\"Voici la dernière grille gagnante :\\n\",grilles[victoire[-1]])"
   ]
  },
  {
   "cell_type": "code",
   "execution_count": null,
   "metadata": {},
   "outputs": [],
   "source": [
    "masked_grid = np.ma.masked_array(grilles[victoire[-1]],game_status[victoire[-1]])\n",
    "print(masked_grid)\n",
    "unmarked_numbers = np.ma.compressed(masked_grid)\n",
    "print(unmarked_numbers)\n",
    "unmarked_sum = sum(unmarked_numbers)\n",
    "print(unmarked_sum)\n",
    "result = int(unmarked_sum)*int(tirage)\n",
    "print(result)"
   ]
  },
  {
   "cell_type": "markdown",
   "metadata": {},
   "source": [
    "# Day 5"
   ]
  },
  {
   "cell_type": "markdown",
   "metadata": {},
   "source": [
    "## Puzzle 1"
   ]
  },
  {
   "cell_type": "code",
   "execution_count": null,
   "metadata": {},
   "outputs": [],
   "source": [
    "f = open('./inputs/day5/input','r')\n",
    "\n",
    "data = f.read().split('\\n')\n",
    "\n",
    "for i in range(len(data)):\n",
    "    data[i] = data[i].split(\" -> \")\n",
    "    data[i][0] = list(map(int,data[i][0].split(\",\")))\n",
    "    data[i][1] = list(map(int,data[i][1].split(\",\")))\n",
    "data = np.array(data)\n",
    "print(data[0:3])\n",
    "print(\"...\")\n",
    "print(data[-3:])\n",
    "print(\"...\")\n",
    "print(\"Il y a \",len(data),\"lignes segments le fichier\")\n",
    "print(\"Maximum \",np.amax(data))\n",
    "print(\"Minimum \",np.amin(data))"
   ]
  },
  {
   "cell_type": "code",
   "execution_count": null,
   "metadata": {},
   "outputs": [],
   "source": [
    "def get_segment(couples):\n",
    "    x1 = couples[0][0]\n",
    "    y1 = couples[0][1]\n",
    "    x2 = couples[1][0]\n",
    "    y2 = couples[1][1]\n",
    "    segments = []\n",
    "    if x1==x2:\n",
    "        for y in range (min(y1,y2),max(y1,y2)+1):\n",
    "            segments.append([x1,y])\n",
    "    if y1==y2:\n",
    "        for x in range (min(x1,x2),max(x1,x2)+1):\n",
    "            segments.append([x,y1])\n",
    "    return segments"
   ]
  },
  {
   "cell_type": "code",
   "execution_count": null,
   "metadata": {},
   "outputs": [],
   "source": [
    "def create_segment_map(data):\n",
    "    segment_map = np.zeros((np.amax(data)+1,np.amax(data)+1))\n",
    "    for couples in data:\n",
    "        segments = get_segment(couples)\n",
    "        for segment in segments:\n",
    "            segment_map[segment[0]][segment[1]] += 1\n",
    "    return (segment_map)"
   ]
  },
  {
   "cell_type": "code",
   "execution_count": null,
   "metadata": {},
   "outputs": [],
   "source": [
    "def count_sup_1(segment_map):\n",
    "    occurrences_more_than_2 = segment_map >= 2\n",
    "    occurrences_more_than_2 = occurrences_more_than_2.sum()\n",
    "    return(occurrences_more_than_2)"
   ]
  },
  {
   "cell_type": "code",
   "execution_count": null,
   "metadata": {},
   "outputs": [],
   "source": [
    "print(count_sup_1(create_segment_map(data)))"
   ]
  },
  {
   "cell_type": "markdown",
   "metadata": {},
   "source": [
    "## Puzzle 2"
   ]
  },
  {
   "cell_type": "code",
   "execution_count": null,
   "metadata": {},
   "outputs": [],
   "source": [
    "from tqdm import tqdm"
   ]
  },
  {
   "cell_type": "code",
   "execution_count": null,
   "metadata": {},
   "outputs": [],
   "source": [
    "def intermediates(couples):\n",
    "    \"\"\"\"Return a list of nb_points equally spaced points\n",
    "    between p1 and p2\"\"\"\n",
    "    # If we have 8 intermediate points, we have 8+1=9 spaces\n",
    "    # between p1 and p2\n",
    "    p1=couples[0]\n",
    "    p2=couples[1]\n",
    "    nb_points= abs(p2[0]-p1[0])\n",
    "    x_spacing = (p2[0] - p1[0]) / (nb_points)\n",
    "    y_spacing = (p2[1] - p1[1]) / (nb_points)\n",
    "    \n",
    "    result = list([p1[0] + i * x_spacing, p1[1] +  i * y_spacing] for i in range(1, nb_points))\n",
    "    result = [list( map(int,i) ) for i in result]\n",
    "\n",
    "    return result\n",
    "\n",
    "print(intermediates([[13, 7], [8, 2]]))"
   ]
  },
  {
   "cell_type": "code",
   "execution_count": null,
   "metadata": {},
   "outputs": [],
   "source": [
    "def get_segment_45(couples):\n",
    "    x1 = couples[0][0]\n",
    "    y1 = couples[0][1]\n",
    "    x2 = couples[1][0]\n",
    "    y2 = couples[1][1]\n",
    "    segments = []\n",
    "    if x1==x2:\n",
    "        for y in range (min(y1,y2),max(y1,y2)+1):\n",
    "            segments.append([x1,y])\n",
    "    if y1==y2:\n",
    "        for x in range (min(x1,x2),max(x1,x2)+1):\n",
    "            segments.append([x,y1])\n",
    "    if x1!=x2 and y1!=y2:\n",
    "        segments.append(couples[0])\n",
    "        segments = segments + intermediates(couples)\n",
    "        segments.append(couples[1])\n",
    "    return segments"
   ]
  },
  {
   "cell_type": "code",
   "execution_count": null,
   "metadata": {},
   "outputs": [],
   "source": [
    "get_segment_45([[12,15],[15,9]])"
   ]
  },
  {
   "cell_type": "code",
   "execution_count": null,
   "metadata": {},
   "outputs": [],
   "source": [
    "def create_segment_map_45(data):\n",
    "    segment_map = np.zeros((np.amax(data)+1,np.amax(data)+1))\n",
    "    for couples in tqdm(data):\n",
    "        segments = get_segment_45(couples)\n",
    "        for segment in segments:\n",
    "            segment_map[segment[0]][segment[1]] += 1\n",
    "    return (segment_map)"
   ]
  },
  {
   "cell_type": "code",
   "execution_count": null,
   "metadata": {},
   "outputs": [],
   "source": [
    "print(count_sup_1(create_segment_map_45(data)))"
   ]
  },
  {
   "cell_type": "markdown",
   "metadata": {},
   "source": [
    "# Day 6"
   ]
  },
  {
   "cell_type": "markdown",
   "metadata": {},
   "source": [
    "## Puzzle 1"
   ]
  },
  {
   "cell_type": "code",
   "execution_count": 70,
   "metadata": {},
   "outputs": [
    {
     "name": "stdout",
     "output_type": "stream",
     "text": [
      "352872\n"
     ]
    }
   ],
   "source": [
    "with open(\"inputs/day6/input\") as fin:\n",
    "    raw_data = fin.read().strip().split(\",\")\n",
    "    clocks = [int(i) for i in raw_data]\n",
    "\n",
    "\n",
    "# After 80 days, something like 11 cycles will have gone by\n",
    "# That's a growth rate of more than 2000!\n",
    "# We can probably still brute force this\n",
    "days = 80\n",
    "\n",
    "for _ in range(days):\n",
    "    n = len(clocks)\n",
    "    for i in range(n):\n",
    "        if clocks[i] == 0:\n",
    "            clocks[i] = 6\n",
    "            clocks.append(8)\n",
    "        else:\n",
    "            clocks[i] -= 1\n",
    "\n",
    "ans = len(clocks)\n",
    "print(ans)"
   ]
  },
  {
   "cell_type": "markdown",
   "metadata": {},
   "source": [
    "## Puzzle 2"
   ]
  },
  {
   "cell_type": "code",
   "execution_count": 72,
   "metadata": {},
   "outputs": [
    {
     "name": "stdout",
     "output_type": "stream",
     "text": [
      "defaultdict(<class 'int'>,\n",
      "            {0: 142314924795,\n",
      "             1: 161696103037,\n",
      "             2: 172664695649,\n",
      "             3: 188351404845,\n",
      "             4: 209923822686,\n",
      "             5: 220241339601,\n",
      "             6: 252637217270,\n",
      "             7: 118975198597,\n",
      "             8: 137556475669})\n",
      "1604361182149\n"
     ]
    }
   ],
   "source": [
    "from collections import defaultdict\n",
    "from pprint import pprint\n",
    "\n",
    "with open(\"inputs/day6/input\") as fin:\n",
    "    raw_data = fin.read().strip().split(\",\")\n",
    "    freq = defaultdict(int)\n",
    "    for i in raw_data:\n",
    "        freq[int(i)] += 1\n",
    "\n",
    "\n",
    "# We have to be smart now\n",
    "days = 256\n",
    "\n",
    "for _ in range(days):\n",
    "    # New dict to store frequencies\n",
    "    new_freq = defaultdict(int)\n",
    "\n",
    "    for key in freq:\n",
    "        if key == 0:\n",
    "            new_freq[6] += freq[key]\n",
    "            new_freq[8] = freq[key]\n",
    "        else:\n",
    "            new_freq[key - 1] += freq[key]\n",
    "\n",
    "    freq = new_freq\n",
    "\n",
    "ans = 0\n",
    "pprint(freq)\n",
    "for key in freq:\n",
    "    ans += freq[key]\n",
    "print(ans)"
   ]
  },
  {
   "cell_type": "code",
   "execution_count": null,
   "metadata": {},
   "outputs": [],
   "source": []
  }
 ],
 "metadata": {
  "interpreter": {
   "hash": "916dbcbb3f70747c44a77c7bcd40155683ae19c65e1c03b4aa3499c5328201f1"
  },
  "kernelspec": {
   "display_name": "Python 3.8.10 64-bit",
   "language": "python",
   "name": "python3"
  },
  "language_info": {
   "codemirror_mode": {
    "name": "ipython",
    "version": 3
   },
   "file_extension": ".py",
   "mimetype": "text/x-python",
   "name": "python",
   "nbconvert_exporter": "python",
   "pygments_lexer": "ipython3",
   "version": "3.8.10"
  },
  "orig_nbformat": 4
 },
 "nbformat": 4,
 "nbformat_minor": 2
}
