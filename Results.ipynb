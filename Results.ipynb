{
 "cells": [
  {
   "cell_type": "markdown",
   "metadata": {},
   "source": [
    "# Advent of Code : https://adventofcode.com/"
   ]
  },
  {
   "cell_type": "markdown",
   "metadata": {},
   "source": [
    "# Imports"
   ]
  },
  {
   "cell_type": "code",
   "execution_count": 1,
   "metadata": {},
   "outputs": [],
   "source": [
    "import numpy as np\n",
    "import pandas as pd"
   ]
  },
  {
   "cell_type": "markdown",
   "metadata": {},
   "source": [
    "# Day 1"
   ]
  },
  {
   "cell_type": "markdown",
   "metadata": {},
   "source": [
    "### Puzzle 1"
   ]
  },
  {
   "cell_type": "code",
   "execution_count": 2,
   "metadata": {},
   "outputs": [
    {
     "data": {
      "text/plain": [
       "array([171, 154, 155, 170, 167])"
      ]
     },
     "execution_count": 2,
     "metadata": {},
     "output_type": "execute_result"
    }
   ],
   "source": [
    "f = open('./inputs/day1/input','r')\n",
    "data = np.array(f.read().split('\\n'))[:-1].astype(int)\n",
    "data[0:5]"
   ]
  },
  {
   "cell_type": "code",
   "execution_count": 3,
   "metadata": {},
   "outputs": [
    {
     "name": "stdout",
     "output_type": "stream",
     "text": [
      "1121\n"
     ]
    }
   ],
   "source": [
    "counter=0\n",
    "for i in range(len(data)-1):\n",
    "    if data[i+1] > data[(i)]:\n",
    "        counter+=1\n",
    "print(counter)"
   ]
  },
  {
   "cell_type": "markdown",
   "metadata": {},
   "source": [
    "### Puzzle 2"
   ]
  },
  {
   "cell_type": "code",
   "execution_count": 4,
   "metadata": {},
   "outputs": [
    {
     "name": "stdout",
     "output_type": "stream",
     "text": [
      "1065\n"
     ]
    }
   ],
   "source": [
    "counter = 0\n",
    "for i in range(len(data)-3):\n",
    "    if data[i+1] + data[i+2] + data[i+3] > data[i] + data[i+1] + data[i+2]:\n",
    "        counter+=1\n",
    "print(counter)"
   ]
  },
  {
   "cell_type": "markdown",
   "metadata": {},
   "source": [
    "# Day 2"
   ]
  },
  {
   "cell_type": "markdown",
   "metadata": {},
   "source": [
    "## Puzzle 1"
   ]
  },
  {
   "cell_type": "code",
   "execution_count": 5,
   "metadata": {},
   "outputs": [
    {
     "name": "stdout",
     "output_type": "stream",
     "text": [
      "['forward 1' 'down 6' 'down 6' 'forward 2' 'forward 2' 'down 2' 'down 1'\n",
      " 'down 5' 'down 7' 'down 3' 'forward 1' 'forward 6' 'up 2' 'forward 2'\n",
      " 'forward 7']\n",
      "forward 3\n"
     ]
    }
   ],
   "source": [
    "f = open('./inputs/day2/input','r')\n",
    "data = np.array(f.read().split('\\n'))\n",
    "print(data[0:15])\n",
    "print(data[-1])"
   ]
  },
  {
   "cell_type": "code",
   "execution_count": 6,
   "metadata": {},
   "outputs": [
    {
     "name": "stdout",
     "output_type": "stream",
     "text": [
      "[1790, 1222]\n",
      "2187380\n"
     ]
    }
   ],
   "source": [
    "position = [0,0] # Horizontal / Depth\n",
    "for movement in data:\n",
    "    if movement.split(\" \")[0]==\"forward\":\n",
    "        position[0] = position[0] + int(movement.split(\" \")[1])\n",
    "    if movement.split(\" \")[0]==\"up\":\n",
    "        position[1] = position[1] - int(movement.split(\" \")[1])\n",
    "    if movement.split(\" \")[0]==\"down\":\n",
    "        position[1] = position[1] + int(movement.split(\" \")[1])\n",
    "print(position)\n",
    "result = position[0]*position[1]\n",
    "print(result)"
   ]
  },
  {
   "cell_type": "markdown",
   "metadata": {},
   "source": [
    "## Puzzle 2"
   ]
  },
  {
   "cell_type": "code",
   "execution_count": 7,
   "metadata": {},
   "outputs": [
    {
     "name": "stdout",
     "output_type": "stream",
     "text": [
      "[1790, 1165563, 1222]\n",
      "2086357770\n"
     ]
    }
   ],
   "source": [
    "position = [0,0,0] # Horizontal / Depth / Aim\n",
    "for movement in data:\n",
    "    if movement.split(\" \")[0]==\"forward\":\n",
    "        position[0] = position[0] + int(movement.split(\" \")[1])\n",
    "        position[1] = position[1] + position[2]*int(movement.split(\" \")[1])\n",
    "    if movement.split(\" \")[0]==\"up\":\n",
    "        position[2] = position[2] - int(movement.split(\" \")[1])\n",
    "    if movement.split(\" \")[0]==\"down\":\n",
    "        position[2] = position[2] + int(movement.split(\" \")[1])\n",
    "print(position)\n",
    "result = position[0]*position[1]\n",
    "print(result)"
   ]
  },
  {
   "cell_type": "markdown",
   "metadata": {},
   "source": [
    "# Day 3"
   ]
  },
  {
   "cell_type": "markdown",
   "metadata": {},
   "source": [
    "## Puzzle 1"
   ]
  },
  {
   "cell_type": "code",
   "execution_count": 8,
   "metadata": {},
   "outputs": [
    {
     "name": "stdout",
     "output_type": "stream",
     "text": [
      "['011111101011' '101001110000' '010010001011' '011111100101'\n",
      " '111110100011' '100000010101' '001110110111' '101101111100'\n",
      " '001101110111' '010101000101' '010001001110' '000010001111'\n",
      " '011111001000' '011011111011' '001101110100']\n",
      "100000011011\n"
     ]
    }
   ],
   "source": [
    "f = open('./inputs/day3/input','r')\n",
    "data = np.array(f.read().split('\\n'))\n",
    "print(data[0:15])\n",
    "print(data[-1])"
   ]
  },
  {
   "cell_type": "code",
   "execution_count": 9,
   "metadata": {},
   "outputs": [
    {
     "name": "stdout",
     "output_type": "stream",
     "text": [
      "Répartition des 1 : [493. 494. 511. 509. 481. 504. 493. 487. 510. 502. 492. 484.]\n",
      "Gamma rate (bin): 001101001100\n",
      "Epsilon rate (bin): 110010110011\n",
      "Gamma rate : 844\n",
      "Epsilon rate : 3251\n",
      "Power consumption : 2743844\n"
     ]
    }
   ],
   "source": [
    "ones = np.zeros(12)\n",
    "for observation in data:\n",
    "    for i,digit in enumerate(observation):\n",
    "        ones[i] = ones[i]+int(digit)\n",
    "\n",
    "print(\"Répartition des 1 :\",ones)\n",
    "\n",
    "gamma_rate = (ones>(len(data)/2))*1\n",
    "epsilon_rate = (1-gamma_rate)\n",
    "\n",
    "gamma_rate_bin = ''.join(map(str, gamma_rate))\n",
    "epsilon_rate_bin = ''.join(map(str, epsilon_rate))\n",
    "\n",
    "print(\"Gamma rate (bin):\",gamma_rate_bin)\n",
    "print(\"Epsilon rate (bin):\",epsilon_rate_bin)\n",
    "\n",
    "gamma_rate = int(gamma_rate_bin,2)\n",
    "epsilon_rate = int(epsilon_rate_bin,2)\n",
    "\n",
    "print(\"Gamma rate :\",gamma_rate)\n",
    "print(\"Epsilon rate :\",epsilon_rate)\n",
    "\n",
    "print(\"Power consumption :\",gamma_rate*epsilon_rate)"
   ]
  },
  {
   "cell_type": "markdown",
   "metadata": {},
   "source": [
    "## Puzzle 2\n",
    "#### Note that the Gamma Rate corresponds to the most occuring digit in its position. Let's use that for our problem..."
   ]
  },
  {
   "cell_type": "code",
   "execution_count": 14,
   "metadata": {},
   "outputs": [
    {
     "name": "stdout",
     "output_type": "stream",
     "text": [
      "Taille de la liste : 1000\n",
      "Répartition des 1 : 493 . Cela correspond à une proportion de : 0.493\n",
      "Majorités en binaire : False\n",
      "Taille de la liste : 507\n",
      "--------------------------------\n",
      "Taille de la liste : 507\n",
      "Répartition des 1 : 255 . Cela correspond à une proportion de : 0.5029585798816568\n",
      "Majorités en binaire : True\n",
      "Taille de la liste : 255\n",
      "--------------------------------\n",
      "Taille de la liste : 255\n",
      "Répartition des 1 : 135 . Cela correspond à une proportion de : 0.5294117647058824\n",
      "Majorités en binaire : True\n",
      "Taille de la liste : 135\n",
      "--------------------------------\n",
      "Taille de la liste : 135\n",
      "Répartition des 1 : 68 . Cela correspond à une proportion de : 0.5037037037037037\n",
      "Majorités en binaire : True\n",
      "Taille de la liste : 68\n",
      "--------------------------------\n",
      "Taille de la liste : 68\n",
      "Répartition des 1 : 39 . Cela correspond à une proportion de : 0.5735294117647058\n",
      "Majorités en binaire : True\n",
      "Taille de la liste : 39\n",
      "--------------------------------\n",
      "Taille de la liste : 39\n",
      "Répartition des 1 : 19 . Cela correspond à une proportion de : 0.48717948717948717\n",
      "Majorités en binaire : False\n",
      "Taille de la liste : 20\n",
      "--------------------------------\n",
      "Taille de la liste : 20\n",
      "Répartition des 1 : 10 . Cela correspond à une proportion de : 0.5\n",
      "Majorités en binaire : True\n",
      "Taille de la liste : 10\n",
      "--------------------------------\n",
      "Taille de la liste : 10\n",
      "Répartition des 1 : 6 . Cela correspond à une proportion de : 0.6\n",
      "Majorités en binaire : True\n",
      "Taille de la liste : 6\n",
      "--------------------------------\n",
      "Taille de la liste : 6\n",
      "Répartition des 1 : 5 . Cela correspond à une proportion de : 0.8333333333333334\n",
      "Majorités en binaire : True\n",
      "Taille de la liste : 5\n",
      "--------------------------------\n",
      "Taille de la liste : 5\n",
      "Répartition des 1 : 3 . Cela correspond à une proportion de : 0.6\n",
      "Majorités en binaire : True\n",
      "Taille de la liste : 3\n",
      "--------------------------------\n",
      "Taille de la liste : 3\n",
      "Répartition des 1 : 1 . Cela correspond à une proportion de : 0.3333333333333333\n",
      "Majorités en binaire : False\n",
      "Taille de la liste : 2\n",
      "--------------------------------\n",
      "Taille de la liste : 2\n",
      "Répartition des 1 : 1 . Cela correspond à une proportion de : 0.5\n",
      "Majorités en binaire : True\n",
      "Taille de la liste : 1\n",
      "--------------------------------\n",
      "O2 Scrubber Rating : 011110111101\n"
     ]
    }
   ],
   "source": [
    "remaining = list(data.copy())\n",
    "for i in range(len(remaining[0])):\n",
    "    if len(remaining)==1:\n",
    "        break\n",
    "    print(\"Taille de la liste :\",len(remaining))\n",
    "    ones = 0\n",
    "    for observation in remaining:\n",
    "        ones = ones+int(observation[i])\n",
    "    print(\"Répartition des 1 :\",ones,\". Cela correspond à une proportion de :\",ones/len(remaining))\n",
    "    majoritaire = ones>=(len(remaining)/2)\n",
    "    print(\"Majorités en binaire :\",majoritaire)\n",
    "    \n",
    "    correct = []\n",
    "    for observation in remaining:\n",
    "        if int(observation[i])==int(majoritaire*1):\n",
    "            correct.append(observation)\n",
    "        else:\n",
    "            continue\n",
    "\n",
    "    remaining = correct.copy()\n",
    "    print(\"Taille de la liste :\",len(remaining))\n",
    "    print(\"--------------------------------\")\n",
    "\n",
    "O2_scrubber_rating = remaining[0]\n",
    "\n",
    "print(\"O2 Scrubber Rating :\",O2_scrubber_rating)"
   ]
  },
  {
   "cell_type": "code",
   "execution_count": 11,
   "metadata": {},
   "outputs": [
    {
     "name": "stdout",
     "output_type": "stream",
     "text": [
      "Taille de la liste : 1000\n",
      "Répartition des 1 : 493 . Cela correspond à une proportion de : 0.493\n",
      "Majorités en binaire : True\n",
      "Taille de la liste : 493\n",
      "--------------------------------\n",
      "Taille de la liste : 493\n",
      "Répartition des 1 : 239 . Cela correspond à une proportion de : 0.4847870182555781\n",
      "Majorités en binaire : True\n",
      "Taille de la liste : 239\n",
      "--------------------------------\n",
      "Taille de la liste : 239\n",
      "Répartition des 1 : 123 . Cela correspond à une proportion de : 0.5146443514644351\n",
      "Majorités en binaire : False\n",
      "Taille de la liste : 116\n",
      "--------------------------------\n",
      "Taille de la liste : 116\n",
      "Répartition des 1 : 56 . Cela correspond à une proportion de : 0.4827586206896552\n",
      "Majorités en binaire : True\n",
      "Taille de la liste : 56\n",
      "--------------------------------\n",
      "Taille de la liste : 56\n",
      "Répartition des 1 : 30 . Cela correspond à une proportion de : 0.5357142857142857\n",
      "Majorités en binaire : False\n",
      "Taille de la liste : 26\n",
      "--------------------------------\n",
      "Taille de la liste : 26\n",
      "Répartition des 1 : 13 . Cela correspond à une proportion de : 0.5\n",
      "Majorités en binaire : False\n",
      "Taille de la liste : 13\n",
      "--------------------------------\n",
      "Taille de la liste : 13\n",
      "Répartition des 1 : 4 . Cela correspond à une proportion de : 0.3076923076923077\n",
      "Majorités en binaire : True\n",
      "Taille de la liste : 4\n",
      "--------------------------------\n",
      "Taille de la liste : 4\n",
      "Répartition des 1 : 3 . Cela correspond à une proportion de : 0.75\n",
      "Majorités en binaire : False\n",
      "Taille de la liste : 1\n",
      "--------------------------------\n",
      "Taille de la liste : 1\n",
      "CO2 Scrubber Rating : 110100101011\n"
     ]
    }
   ],
   "source": [
    "remaining = list(data.copy())\n",
    "for i in range(len(remaining[0])):\n",
    "    if len(remaining)==1:\n",
    "        break\n",
    "    print(\"Taille de la liste :\",len(remaining))\n",
    "    ones = 0\n",
    "    for observation in remaining:\n",
    "        ones = ones+int(observation[i])\n",
    "    print(\"Répartition des 1 :\",ones,\". Cela correspond à une proportion de :\",ones/len(remaining))\n",
    "    minoritaire = ones<(len(remaining)/2)\n",
    "    print(\"Majorités en binaire :\",minoritaire)\n",
    "    \n",
    "    correct = []\n",
    "    for observation in remaining:\n",
    "        if int(observation[i])==int(minoritaire*1):\n",
    "            correct.append(observation)\n",
    "        else:\n",
    "            continue\n",
    "\n",
    "    remaining = correct.copy()\n",
    "    print(\"Taille de la liste :\",len(remaining))\n",
    "    print(\"--------------------------------\")\n",
    "\n",
    "CO2_scrubber_rating = remaining[0]\n",
    "\n",
    "print(\"CO2 Scrubber Rating :\",CO2_scrubber_rating)"
   ]
  },
  {
   "cell_type": "code",
   "execution_count": 12,
   "metadata": {},
   "outputs": [
    {
     "name": "stdout",
     "output_type": "stream",
     "text": [
      "Le taux de dioxygène : 1981\n",
      "Le taux de dioxyde de carbone : 3371\n"
     ]
    }
   ],
   "source": [
    "O2_scrubber_rating = int(O2_scrubber_rating,2)\n",
    "CO2_scrubber_rating = int(CO2_scrubber_rating,2)\n",
    "print(\"Le taux de dioxygène :\",O2_scrubber_rating)\n",
    "print(\"Le taux de dioxyde de carbone :\",CO2_scrubber_rating)"
   ]
  },
  {
   "cell_type": "code",
   "execution_count": 13,
   "metadata": {},
   "outputs": [
    {
     "data": {
      "text/plain": [
       "6677951"
      ]
     },
     "execution_count": 13,
     "metadata": {},
     "output_type": "execute_result"
    }
   ],
   "source": [
    "Life_support_rating = O2_scrubber_rating*CO2_scrubber_rating\n",
    "Life_support_rating"
   ]
  },
  {
   "cell_type": "code",
   "execution_count": null,
   "metadata": {},
   "outputs": [],
   "source": []
  }
 ],
 "metadata": {
  "interpreter": {
   "hash": "916dbcbb3f70747c44a77c7bcd40155683ae19c65e1c03b4aa3499c5328201f1"
  },
  "kernelspec": {
   "display_name": "Python 3.8.10 64-bit",
   "language": "python",
   "name": "python3"
  },
  "language_info": {
   "codemirror_mode": {
    "name": "ipython",
    "version": 3
   },
   "file_extension": ".py",
   "mimetype": "text/x-python",
   "name": "python",
   "nbconvert_exporter": "python",
   "pygments_lexer": "ipython3",
   "version": "3.8.10"
  },
  "orig_nbformat": 4
 },
 "nbformat": 4,
 "nbformat_minor": 2
}
